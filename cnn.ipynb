{
  "nbformat": 4,
  "nbformat_minor": 0,
  "metadata": {
    "colab": {
      "name": "Copy of cnn-easy.ipynb",
      "provenance": [],
      "collapsed_sections": [],
      "toc_visible": true
    },
    "kernelspec": {
      "name": "python3",
      "display_name": "Python 3"
    },
    "accelerator": "GPU"
  },
  "cells": [
    {
      "cell_type": "markdown",
      "metadata": {
        "id": "BWthCTpiJ6eR",
        "colab_type": "text"
      },
      "source": [
        "# Import"
      ]
    },
    {
      "cell_type": "code",
      "metadata": {
        "id": "r_dN5fRZU4vu",
        "colab_type": "code",
        "colab": {}
      },
      "source": [
        "import torch \n",
        "import torch.nn as nn\n",
        "import torchvision\n",
        "import torchvision.transforms as transforms\n",
        "import matplotlib. pyplot as plt"
      ],
      "execution_count": 0,
      "outputs": []
    },
    {
      "cell_type": "markdown",
      "metadata": {
        "id": "ICyI7-x4KFvz",
        "colab_type": "text"
      },
      "source": [
        "# Dataset"
      ]
    },
    {
      "cell_type": "code",
      "metadata": {
        "id": "Yoni_AiOKF2c",
        "colab_type": "code",
        "colab": {}
      },
      "source": [
        "# Use GPU if available\n",
        "device = torch.device('cuda:0' if torch.cuda.is_available() else 'cpu')\n",
        "\n",
        "# Initialize hyperparameters\n",
        "num_epochs = 5\n",
        "num_classes = 10\n",
        "batch_size = 100\n",
        "learning_rate = 0.001\n",
        "\n",
        "# Download MNIST dataset\n",
        "train_dataset = torchvision.datasets.MNIST(root='data/',\n",
        "                                           train=True, \n",
        "                                           transform=transforms.ToTensor(),\n",
        "                                           download=True)\n",
        "\n",
        "test_dataset = torchvision.datasets.MNIST(root='data/',\n",
        "                                          train=False, \n",
        "                                          transform=transforms.ToTensor())\n",
        "\n",
        "# Data loader\n",
        "train_loader = torch.utils.data.DataLoader(dataset=train_dataset,\n",
        "                                           batch_size=batch_size, \n",
        "                                           shuffle=True)\n",
        "\n",
        "test_loader = torch.utils.data.DataLoader(dataset=test_dataset,\n",
        "                                          batch_size=batch_size, \n",
        "                                          shuffle=False)"
      ],
      "execution_count": 0,
      "outputs": []
    },
    {
      "cell_type": "code",
      "metadata": {
        "id": "tfcvDTeaYAO4",
        "colab_type": "code",
        "outputId": "cb3f6f24-4b46-4d0d-8b23-2df02a1bd5bf",
        "colab": {
          "base_uri": "https://localhost:8080/",
          "height": 282
        }
      },
      "source": [
        "plt.imshow(train_dataset[0][0][0])\n",
        "print('Lable for this image is:', train_dataset[0][1])"
      ],
      "execution_count": 0,
      "outputs": [
        {
          "output_type": "stream",
          "text": [
            "Lable for this image is: 5\n"
          ],
          "name": "stdout"
        },
        {
          "output_type": "display_data",
          "data": {
            "image/png": "[encoded data removed]",
            "text/plain": [
              "<Figure size 432x288 with 1 Axes>"
            ]
          },
          "metadata": {
            "tags": [],
            "needs_background": "light"
          }
        }
      ]
    },
    {
      "cell_type": "markdown",
      "metadata": {
        "id": "MFCke1W2KesE",
        "colab_type": "text"
      },
      "source": [
        "# Model Architecture"
      ]
    },
    {
      "cell_type": "code",
      "metadata": {
        "id": "F3Ob5nhVKeyV",
        "colab_type": "code",
        "colab": {}
      },
      "source": [
        "# CNN (conv + pooling + conv + pooling + fc)\n",
        "class ConvNet(nn.Module):\n",
        "    def __init__(self, num_classes=10):\n",
        "        # Inheritance from Pytorch\n",
        "        super(ConvNet, self).__init__()\n",
        "\n",
        "        # Conv2d: Input shape (_,_,1), kernel shape (5,5,1), 20 filters, stride 1, padding 2\n",
        "        # ReLU\n",
        "        # MaxPool2d: kernel shape (2,2,20), stride 2\n",
        "        self.layer1 = nn.Sequential(\n",
        "            nn.Conv2d(in_channels=1,out_channels=20,kernel_size=5,stride=1,padding=2),\n",
        "            nn.ReLU(),\n",
        "            nn.MaxPool2d(kernel_size=2,stride=2))\n",
        "        \n",
        "        # Conv2d: Input shape (_,_,1), kernel shape (5,5,20), 40 filters, stride 1, padding 2\n",
        "        # ReLU\n",
        "        # MaxPool2d: kernel shape (2,2,20), stride 2\n",
        "        self.layer2 = nn.Sequential(\n",
        "            nn.Conv2d(in_channels=20,out_channels=40,kernel_size=5,stride=1,padding=2),\n",
        "            nn.ReLU(),\n",
        "            nn.MaxPool2d(kernel_size=2,stride=2))\n",
        "        \n",
        "        # fc: use Linear as the fully connected layer\n",
        "        self.fc = nn.Linear(40*7*7,10)\n",
        "        \n",
        "    def forward(self, x):\n",
        "        # pass through layer1\n",
        "        out = self.layer1(x)\n",
        "\n",
        "        # pass through layer2\n",
        "        out = self.layer2(out)\n",
        "\n",
        "\n",
        "        # flatten the feature map\n",
        "        out = out.flatten(start_dim=1)\n",
        "\n",
        "        # pass through fully connected layer\n",
        "        out = self.fc(out)\n",
        "\n",
        "        return out"
      ],
      "execution_count": 0,
      "outputs": []
    },
    {
      "cell_type": "markdown",
      "metadata": {
        "id": "98nPyz3cKyK-",
        "colab_type": "text"
      },
      "source": [
        "# Model Traning"
      ]
    },
    {
      "cell_type": "code",
      "metadata": {
        "id": "kO6JIJEeKxOm",
        "colab_type": "code",
        "outputId": "f951c85d-79f0-4ccd-f9da-f9e91ed30f74",
        "colab": {
          "base_uri": "https://localhost:8080/",
          "height": 102
        }
      },
      "source": [
        "# Initialize the model\n",
        "model = ConvNet(num_classes).to(device)\n",
        "\n",
        "# Loss and optimizer\n",
        "loss_function = torch.nn.CrossEntropyLoss()\n",
        "optimizer = torch.optim.SGD(model.parameters(), lr=learning_rate)\n",
        "\n",
        "# Train the model\n",
        "total_step = len(train_loader)\n",
        "for epoch in range(num_epochs):\n",
        "    for i, (images, labels) in enumerate(train_loader):\n",
        "        # This is Pytorch syntax to use CPU/GPU\n",
        "        images = images.to(device)\n",
        "        labels = labels.to(device)\n",
        "        \n",
        "        # Forward pass\n",
        "\n",
        "        # call model forward and get the outputs\n",
        "        outputs = model.forward(images)\n",
        "        # compute the loss so that we can monitor it\n",
        "        loss = loss_function(outputs,labels)\n",
        "        \n",
        "        # Backward pass\n",
        "\n",
        "        # compute the gradient\n",
        "        loss.backward()\n",
        "        # update the weights\n",
        "        optimizer.step()\n",
        "        # set all the gradient variables zero\n",
        "        optimizer.zero_grad()\n",
        "        \n",
        "    print ('Epoch {}, Loss: {:.4f}'.format(epoch+1, loss.item()))\n"
      ],
      "execution_count": 0,
      "outputs": [
        {
          "output_type": "stream",
          "text": [
            "Epoch 1, Loss: 2.2156\n",
            "Epoch 2, Loss: 1.9025\n",
            "Epoch 3, Loss: 1.0757\n",
            "Epoch 4, Loss: 0.7247\n",
            "Epoch 5, Loss: 0.5164\n"
          ],
          "name": "stdout"
        }
      ]
    },
    {
      "cell_type": "markdown",
      "metadata": {
        "id": "1Uw2GRYDK0IM",
        "colab_type": "text"
      },
      "source": [
        "# Model Evaluation"
      ]
    },
    {
      "cell_type": "code",
      "metadata": {
        "id": "tGGeCT38K0QO",
        "colab_type": "code",
        "outputId": "b6c4ac87-f91e-4dd5-f89b-6c155204beba",
        "colab": {
          "base_uri": "https://localhost:8080/",
          "height": 34
        }
      },
      "source": [
        "# Turn on eval mode\n",
        "model.eval()  \n",
        "\n",
        "# Test in no gradient descent environment\n",
        "with torch.no_grad():\n",
        "    correct = 0\n",
        "    total = 0\n",
        "    for images, labels in test_loader:\n",
        "        # This is Pytorch syntax to use CPU/GPU\n",
        "        images = images.to(device)\n",
        "        labels = labels.to(device)\n",
        "\n",
        "        # Call model forward and get the outputs\n",
        "        outputs = model.forward(images)\n",
        "        # Use argmax to find the class with highest probability\n",
        "        # make sure the shape of predicted and labels are the same\n",
        "        _, predicted = torch.max(outputs.data,1)\n",
        "        correct += (predicted==labels).sum().item()\n",
        "\n",
        "        total += labels.size(0)\n",
        "    print('Test Accuracy: {} %'.format(100 * correct / total))\n",
        "\n",
        "# Save the model checkpoint so we can reuse it\n",
        "torch.save(model.state_dict(), 'model.ckpt')"
      ],
      "execution_count": 0,
      "outputs": [
        {
          "output_type": "stream",
          "text": [
            "Test Accuracy: 87.91 %\n"
          ],
          "name": "stdout"
        }
      ]
    },
    {
      "cell_type": "code",
      "metadata": {
        "id": "aJbBZebwUKvB",
        "colab_type": "code",
        "colab": {}
      },
      "source": [
        ""
      ],
      "execution_count": 0,
      "outputs": []
    }
  ]
}
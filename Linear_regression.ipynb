{
 "cells": [
  {
   "cell_type": "markdown",
   "metadata": {
    "colab_type": "text",
    "id": "547YSIEKKV0P"
   },
   "source": [
    "This project implements linear regression using gradient descent."
   ]
  },
  {
   "cell_type": "markdown",
   "metadata": {
    "colab_type": "text",
    "id": "kWACFdiodjyM"
   },
   "source": [
    "# Import libraries"
   ]
  },
  {
   "cell_type": "code",
   "execution_count": 0,
   "metadata": {
    "colab": {},
    "colab_type": "code",
    "id": "vyglwfQrKiz9"
   },
   "outputs": [],
   "source": [
    "import pandas as pd\n",
    "import numpy as np\n",
    "import math\n",
    "from sklearn import preprocessing\n",
    "from sklearn.model_selection import train_test_split\n",
    "from sklearn.linear_model import LinearRegression\n",
    "import datetime\n",
    "import matplotlib.pyplot as plt"
   ]
  },
  {
   "cell_type": "markdown",
   "metadata": {
    "colab_type": "text",
    "id": "hbGf91CNdd0l"
   },
   "source": [
    "# Data preprocessing"
   ]
  },
  {
   "cell_type": "markdown",
   "metadata": {
    "colab_type": "text",
    "id": "n2Vv5DOg3w2r"
   },
   "source": [
    "## Data loading"
   ]
  },
  {
   "cell_type": "code",
   "execution_count": 0,
   "metadata": {
    "colab": {
     "base_uri": "https://localhost:8080/",
     "height": 419
    },
    "colab_type": "code",
    "id": "EObZE4QzRBK1",
    "outputId": "0bed1969-e686-4fed-8bc6-1e3082e42d32"
   },
   "outputs": [
    {
     "data": {
      "text/html": [
       "<div>\n",
       "<style scoped>\n",
       "    .dataframe tbody tr th:only-of-type {\n",
       "        vertical-align: middle;\n",
       "    }\n",
       "\n",
       "    .dataframe tbody tr th {\n",
       "        vertical-align: top;\n",
       "    }\n",
       "\n",
       "    .dataframe thead th {\n",
       "        text-align: right;\n",
       "    }\n",
       "</style>\n",
       "<table border=\"1\" class=\"dataframe\">\n",
       "  <thead>\n",
       "    <tr style=\"text-align: right;\">\n",
       "      <th></th>\n",
       "      <th>open</th>\n",
       "      <th>high</th>\n",
       "      <th>low</th>\n",
       "      <th>close</th>\n",
       "      <th>volume</th>\n",
       "    </tr>\n",
       "  </thead>\n",
       "  <tbody>\n",
       "    <tr>\n",
       "      <th>0</th>\n",
       "      <td>1149.42</td>\n",
       "      <td>1149.91</td>\n",
       "      <td>1114.43</td>\n",
       "      <td>1116.28</td>\n",
       "      <td>822394</td>\n",
       "    </tr>\n",
       "    <tr>\n",
       "      <th>1</th>\n",
       "      <td>1115.35</td>\n",
       "      <td>1142.99</td>\n",
       "      <td>1106.60</td>\n",
       "      <td>1142.11</td>\n",
       "      <td>1161040</td>\n",
       "    </tr>\n",
       "    <tr>\n",
       "      <th>2</th>\n",
       "      <td>1132.31</td>\n",
       "      <td>1141.36</td>\n",
       "      <td>1127.02</td>\n",
       "      <td>1129.19</td>\n",
       "      <td>1578116</td>\n",
       "    </tr>\n",
       "    <tr>\n",
       "      <th>3</th>\n",
       "      <td>1112.39</td>\n",
       "      <td>1134.00</td>\n",
       "      <td>1106.07</td>\n",
       "      <td>1126.78</td>\n",
       "      <td>1486675</td>\n",
       "    </tr>\n",
       "    <tr>\n",
       "      <th>4</th>\n",
       "      <td>1136.00</td>\n",
       "      <td>1146.21</td>\n",
       "      <td>1116.70</td>\n",
       "      <td>1116.94</td>\n",
       "      <td>1726866</td>\n",
       "    </tr>\n",
       "    <tr>\n",
       "      <th>...</th>\n",
       "      <td>...</td>\n",
       "      <td>...</td>\n",
       "      <td>...</td>\n",
       "      <td>...</td>\n",
       "      <td>...</td>\n",
       "    </tr>\n",
       "    <tr>\n",
       "      <th>95</th>\n",
       "      <td>1083.45</td>\n",
       "      <td>1094.10</td>\n",
       "      <td>1067.23</td>\n",
       "      <td>1091.36</td>\n",
       "      <td>1806206</td>\n",
       "    </tr>\n",
       "    <tr>\n",
       "      <th>96</th>\n",
       "      <td>1054.32</td>\n",
       "      <td>1075.47</td>\n",
       "      <td>1049.80</td>\n",
       "      <td>1072.70</td>\n",
       "      <td>2029979</td>\n",
       "    </tr>\n",
       "    <tr>\n",
       "      <th>97</th>\n",
       "      <td>1050.00</td>\n",
       "      <td>1061.22</td>\n",
       "      <td>1046.92</td>\n",
       "      <td>1054.14</td>\n",
       "      <td>1574121</td>\n",
       "    </tr>\n",
       "    <tr>\n",
       "      <th>98</th>\n",
       "      <td>1056.67</td>\n",
       "      <td>1065.57</td>\n",
       "      <td>1045.49</td>\n",
       "      <td>1054.56</td>\n",
       "      <td>2796258</td>\n",
       "    </tr>\n",
       "    <tr>\n",
       "      <th>99</th>\n",
       "      <td>1025.88</td>\n",
       "      <td>1051.72</td>\n",
       "      <td>997.00</td>\n",
       "      <td>1046.27</td>\n",
       "      <td>4436032</td>\n",
       "    </tr>\n",
       "  </tbody>\n",
       "</table>\n",
       "<p>100 rows × 5 columns</p>\n",
       "</div>"
      ],
      "text/plain": [
       "       open     high      low    close   volume\n",
       "0   1149.42  1149.91  1114.43  1116.28   822394\n",
       "1   1115.35  1142.99  1106.60  1142.11  1161040\n",
       "2   1132.31  1141.36  1127.02  1129.19  1578116\n",
       "3   1112.39  1134.00  1106.07  1126.78  1486675\n",
       "4   1136.00  1146.21  1116.70  1116.94  1726866\n",
       "..      ...      ...      ...      ...      ...\n",
       "95  1083.45  1094.10  1067.23  1091.36  1806206\n",
       "96  1054.32  1075.47  1049.80  1072.70  2029979\n",
       "97  1050.00  1061.22  1046.92  1054.14  1574121\n",
       "98  1056.67  1065.57  1045.49  1054.56  2796258\n",
       "99  1025.88  1051.72   997.00  1046.27  4436032\n",
       "\n",
       "[100 rows x 5 columns]"
      ]
     },
     "execution_count": 112,
     "metadata": {
      "tags": []
     },
     "output_type": "execute_result"
    }
   ],
   "source": [
    "# use pandas to load GOOGL.csv into data frame\n",
    "# use default parameter values\n",
    "df = pd.read_csv('/content/GOOGL.csv')\n",
    "df"
   ]
  },
  {
   "cell_type": "markdown",
   "metadata": {
    "colab_type": "text",
    "id": "S3fYNMs4370K"
   },
   "source": [
    "## Data Visualization"
   ]
  },
  {
   "cell_type": "code",
   "execution_count": 0,
   "metadata": {
    "colab": {
     "base_uri": "https://localhost:8080/",
     "height": 301
    },
    "colab_type": "code",
    "id": "GCtLiMHAPasB",
    "outputId": "bed60508-65d4-49c4-ae15-c12391c0277f"
   },
   "outputs": [
    {
     "data": {
      "image/png": "[encoded data removed]",
      "text/plain": [
       "<Figure size 432x288 with 1 Axes>"
      ]
     },
     "metadata": {
      "tags": []
     },
     "output_type": "display_data"
    }
   ],
   "source": [
    "# Visualize the plot of x (row index), y (close value)\n",
    "\n",
    "import matplotlib.dates as mdates\n",
    "\n",
    "fig, ax = plt.subplots()\n",
    "ax.scatter(df.index, df['close'], color='g')\n",
    "\n",
    "plt.title('Stock Price', fontsize=16)\n",
    "plt.xlabel('X', fontsize=14)\n",
    "plt.ylabel('y', fontsize=14)\n",
    "\n",
    "plt.show()"
   ]
  },
  {
   "cell_type": "markdown",
   "metadata": {
    "colab_type": "text",
    "id": "L8K8GzscKTNO"
   },
   "source": [
    "## Remove outliers"
   ]
  },
  {
   "cell_type": "code",
   "execution_count": 0,
   "metadata": {
    "colab": {},
    "colab_type": "code",
    "id": "_4mhxdyzh0aS"
   },
   "outputs": [],
   "source": [
    "# Remove the outliers that you see from the plot\n",
    "# Complete the if condition\n",
    "row_index = []\n",
    "for index, row in df.iterrows():\n",
    "  if df['close'][index]<=10 or df['close'][index]>=2000:\n",
    "    row_index.append(index)\n",
    "df = df.drop(df.index[row_index])\n",
    "df = df.dropna(axis=0)"
   ]
  },
  {
   "cell_type": "code",
   "execution_count": 0,
   "metadata": {
    "colab": {
     "base_uri": "https://localhost:8080/",
     "height": 301
    },
    "colab_type": "code",
    "id": "Rc-kLnExlAph",
    "outputId": "5720b560-a6fd-4797-c470-c5955d7cd249"
   },
   "outputs": [
    {
     "data": {
      "image/png": "[encoded data removed]",
      "text/plain": [
       "<Figure size 432x288 with 1 Axes>"
      ]
     },
     "metadata": {
      "tags": []
     },
     "output_type": "display_data"
    }
   ],
   "source": [
    "# Visualize the plot again\n",
    "# Use the code from above\n",
    "\n",
    "fig, ax = plt.subplots()\n",
    "ax.scatter(range(len(df['close'])), df['close'], color='g')\n",
    "plt.title('Stock Price', fontsize=16)\n",
    "plt.xlabel('X', fontsize=14)\n",
    "plt.ylabel('y', fontsize=14)\n",
    "\n",
    "plt.show()"
   ]
  },
  {
   "cell_type": "markdown",
   "metadata": {
    "colab_type": "text",
    "id": "FCtE2NDgKW0j"
   },
   "source": [
    "## Scale"
   ]
  },
  {
   "cell_type": "code",
   "execution_count": 0,
   "metadata": {
    "colab": {},
    "colab_type": "code",
    "id": "8PDjOS8vKYRv"
   },
   "outputs": [],
   "source": [
    "# Normalization\n",
    "def minmax_scaler(arr):\n",
    "  return (arr-np.max(arr))/(np.max(arr)-np.min(arr))\n",
    "\n",
    "# Standardization\n",
    "def gaussian_scaler(arr):\n",
    "  standard_deviation = np.std(arr)\n",
    "  return (arr-np.mean(arr))/standard_deviation\n"
   ]
  },
  {
   "cell_type": "markdown",
   "metadata": {
    "colab_type": "text",
    "id": "9dTeCJJv4JMb"
   },
   "source": [
    "## Train Validation Split"
   ]
  },
  {
   "cell_type": "code",
   "execution_count": 0,
   "metadata": {
    "colab": {},
    "colab_type": "code",
    "id": "sMtbYnvv4Nua"
   },
   "outputs": [],
   "source": [
    "# Split the data into training set and validation set\n",
    "# For the purpose of this project\n",
    "#   We want to train on the first 80 data points\n",
    "#   and validate on the rest of the data points\n",
    "train = df[:80]\n",
    "validation = df[80:]\n",
    "\n",
    "X_train = np.array(train.index).reshape(-1, 1)\n",
    "y_train = train['close']\n",
    "X_val = np.array(validation.index).reshape(-1, 1)\n",
    "y_val = validation['close']"
   ]
  },
  {
   "cell_type": "code",
   "execution_count": 0,
   "metadata": {
    "colab": {},
    "colab_type": "code",
    "id": "nSTawmm18hnI"
   },
   "outputs": [],
   "source": [
    "# Apply two scalers\n",
    "X_train = X_train / 100\n",
    "y_train = minmax_scaler(y_train)\n",
    "y_train = gaussian_scaler(y_train)\n",
    "\n",
    "X_val = X_val / 100\n",
    "y_val = minmax_scaler(y_val)\n",
    "y_val = gaussian_scaler(y_val)"
   ]
  },
  {
   "cell_type": "code",
   "execution_count": 0,
   "metadata": {
    "colab": {
     "base_uri": "https://localhost:8080/",
     "height": 301
    },
    "colab_type": "code",
    "id": "hNucqRIUBVea",
    "outputId": "ce2a22d4-2260-458d-dfd5-f1d4d069f578"
   },
   "outputs": [
    {
     "data": {
      "image/png": "[encoded data removed]",
      "text/plain": [
       "<Figure size 432x288 with 1 Axes>"
      ]
     },
     "metadata": {
      "tags": []
     },
     "output_type": "display_data"
    }
   ],
   "source": [
    "# Visualize the plot again\n",
    "fig, ax = plt.subplots()\n",
    "ax.scatter(X_train, y_train, color='g')\n",
    "ax.scatter(X_val, y_val, color='r')\n",
    "plt.title('Stock Price', fontsize=16)\n",
    "plt.xlabel('X', fontsize=14)\n",
    "plt.ylabel('y', fontsize=14)\n",
    "\n",
    "plt.show()"
   ]
  },
  {
   "cell_type": "markdown",
   "metadata": {
    "colab_type": "text",
    "id": "K4uHFVWFeHOc"
   },
   "source": [
    "# Model architecture"
   ]
  },
  {
   "cell_type": "code",
   "execution_count": 0,
   "metadata": {
    "colab": {},
    "colab_type": "code",
    "id": "Sr_to7HzoIMy"
   },
   "outputs": [],
   "source": [
    "# This class is the implementation of linear regression using GD\n",
    "class YourLinearRegression:\n",
    "    def __init__(self, w=0, b=0, epochs=100, learning_rate=0.01):\n",
    "      # initialize model parameters, hyparameters and other variables\n",
    "      self.coef_ = w\n",
    "      self.intercept_ = b\n",
    "      self.epochs = epochs\n",
    "      self.learning_rate = learning_rate\n",
    "      self.train_costs = []\n",
    "      self.val_costs = []\n",
    "\n",
    "    # This function computes the batch gradient descent\n",
    "    # returns the cost of the batch\n",
    "    def batch_gradient_descent(self, X, y):\n",
    "      w, b = self.coef_, self.intercept_\n",
    "      N = float(len(y))\n",
    "      # Compute the output        \n",
    "      y_pred = (w * X) + b\n",
    "\n",
    "      # Compute the gradient\n",
    "      w_gradient = (-2/N) * np.sum(X * (y - y_pred))\n",
    "      b_gradient = (-2/N) * np.sum(y - y_pred)\n",
    "\n",
    "      # Tune the model parameters\n",
    "      w = w - (self.learning_rate * w_gradient)\n",
    "      b = b - (self.learning_rate * b_gradient)\n",
    "      \n",
    "      # Update the model parameters\n",
    "      self.coef_, self.intercept_ = w, b\n",
    "\n",
    "      # Compute the current cost, so we can visualize the progress\n",
    "      cost = np.mean([loss**2 for loss in (y - y_pred)])\n",
    "      return cost\n",
    "    \n",
    "    # This function computes the stochastic gradient descent\n",
    "    # returns the average cost of the training data\n",
    "    def stochastic_gradient_descent(self, X, y):\n",
    "      w, b = self.coef_, self.intercept_\n",
    "      N = float(len(y))\n",
    "      cost_lst = []\n",
    "      for x_i, y_i in zip(X, y):\n",
    "        # Compute the gradient\n",
    "        y_pred = (w * x_i)+b\n",
    "        w_gradient = (-2) * x_i * (y_i-y_pred)\n",
    "        b_gradient = (-2) * (y_i-y_pred)\n",
    "\n",
    "        # Tune the model parameters\n",
    "        w = w - (self.learning_rate * w_gradient)\n",
    "        b = b - (self.learning_rate * b_gradient)\n",
    "\n",
    "        # Compute the current cost, so we can visualize the progress\n",
    "        cost = (y_i - y_pred)**2\n",
    "        cost_lst.append(cost)\n",
    "\n",
    "      # Update the model parameters\n",
    "      self.coef_, self.intercept_ = w, b\n",
    "\n",
    "      return np.mean(cost_lst)\n",
    "    \n",
    "    def fit(self, X, y, X_val, y_val):\n",
    "      X, y  = np.array(X).reshape(-1), np.array(y)\n",
    "      X_val, y_val = np.array(X_val).reshape(-1), np.array(y_val)\n",
    "\n",
    "      # We do batch training in this example\n",
    "      for i in range(self.epochs):\n",
    "        # Gradient descent\n",
    "        cost = self.stochastic_gradient_descent(X, y)\n",
    "        self.train_costs.append([i, cost])\n",
    "\n",
    "        # We evaluate the validation set every few epochs\n",
    "        if i % 10 == 0:\n",
    "          w, b = self.coef_, self.intercept_\n",
    "          y_val_pred = (w * X_val) + b\n",
    "\n",
    "          val_cost = np.mean([loss**2 for loss in (y_val - y_val_pred)]) \n",
    "          self.val_costs.append([i, val_cost])\n",
    "\n",
    "          print('Epoch', i, ': train cost is', cost, ', validation cost is', val_cost)\n",
    "      \n",
    "      \n",
    "      \n",
    "    def predict(self, x):\n",
    "      # linear regression prediction\n",
    "      return self.coef_ * x + self.intercept_"
   ]
  },
  {
   "cell_type": "code",
   "execution_count": 0,
   "metadata": {
    "colab": {},
    "colab_type": "code",
    "id": "3HDMXT2teGhb"
   },
   "outputs": [],
   "source": [
    "from sklearn.linear_model import LinearRegression\n",
    "sklearn_model = LinearRegression()\n",
    "your_model = YourLinearRegression()"
   ]
  },
  {
   "cell_type": "markdown",
   "metadata": {
    "colab_type": "text",
    "id": "AUCQXzxAdKzQ"
   },
   "source": [
    "# Model training"
   ]
  },
  {
   "cell_type": "markdown",
   "metadata": {
    "colab_type": "text",
    "id": "qrt7YS-eLl1l"
   },
   "source": [
    "## Train sklearn model"
   ]
  },
  {
   "cell_type": "code",
   "execution_count": 0,
   "metadata": {
    "colab": {
     "base_uri": "https://localhost:8080/",
     "height": 51
    },
    "colab_type": "code",
    "id": "2Up4j9RCea_d",
    "outputId": "3dc9c5f1-e9f0-4c3c-ea56-00d36fe31408"
   },
   "outputs": [
    {
     "name": "stdout",
     "output_type": "stream",
     "text": [
      "Slope:  [-1.93069183]\n",
      "Intercept:  0.8026851275892546\n"
     ]
    }
   ],
   "source": [
    "# Train the sklearn linear regression, and print slope/intercept\n",
    "sklearn_model.fit(X_train,y_train)\n",
    "print('Slope: ', sklearn_model.coef_)\n",
    "print('Intercept: ', sklearn_model.intercept_)"
   ]
  },
  {
   "cell_type": "code",
   "execution_count": 0,
   "metadata": {
    "colab": {
     "base_uri": "https://localhost:8080/",
     "height": 350
    },
    "colab_type": "code",
    "id": "RyX0vBk8YXvy",
    "outputId": "f1603a33-0120-4e0a-e10f-3d9ac6797e32"
   },
   "outputs": [
    {
     "data": {
      "image/png": "[encoded data removed]",
      "text/plain": [
       "<Figure size 720x360 with 1 Axes>"
      ]
     },
     "metadata": {
      "tags": []
     },
     "output_type": "display_data"
    }
   ],
   "source": [
    "# Inference time\n",
    "# Use trained sklearn model to predict training data and validation data\n",
    "y_pred = sklearn_model.predict(X_train)\n",
    "y_val_pred = sklearn_model.predict(X_val)\n",
    "\n",
    "plt.figure(1, figsize=(10,5))\n",
    "plt.title('Price v.s. Time')\n",
    "\n",
    "plt.scatter(X_train, y_train, color='g', label='Actual Training Price')\n",
    "plt.scatter(X_val, y_val, color='r', label='Actual Testing Price')\n",
    "\n",
    "plt.plot(X_train, y_pred, color='b', label='Predicted Training Price')\n",
    "plt.plot(X_val, y_val_pred, color='r', label='Predicted Testing Price')\n",
    "\n",
    "plt.xlabel('X')\n",
    "plt.ylabel('Y')\n",
    "plt.legend()\n",
    "plt.show()\n"
   ]
  },
  {
   "cell_type": "markdown",
   "metadata": {
    "colab_type": "text",
    "id": "hgc40DvuM02p"
   },
   "source": [
    "## Train your model"
   ]
  },
  {
   "cell_type": "code",
   "execution_count": 0,
   "metadata": {
    "colab": {
     "base_uri": "https://localhost:8080/",
     "height": 221
    },
    "colab_type": "code",
    "id": "mu2B3fS_s67Z",
    "outputId": "401a10d1-9000-43e8-df60-3983c698318e"
   },
   "outputs": [
    {
     "name": "stdout",
     "output_type": "stream",
     "text": [
      "Epoch 0 : train cost is 0.9295621503306194 , validation cost is 1.0157825020961477\n",
      "Epoch 10 : train cost is 0.8386645779563461 , validation cost is 1.0987592407807352\n",
      "Epoch 20 : train cost is 0.8040571641476877 , validation cost is 1.1618440406975434\n",
      "Epoch 30 : train cost is 0.7912284903371308 , validation cost is 1.1972604225211807\n",
      "Epoch 40 : train cost is 0.7859634023090749 , validation cost is 1.2151112183501676\n",
      "Epoch 50 : train cost is 0.7836621007962157 , validation cost is 1.2237387221224596\n",
      "Epoch 60 : train cost is 0.7826212811989336 , validation cost is 1.2278335593607868\n",
      "Epoch 70 : train cost is 0.7821423772306947 , validation cost is 1.229761237159897\n",
      "Epoch 80 : train cost is 0.7819201782280351 , validation cost is 1.2306652984414659\n",
      "Epoch 90 : train cost is 0.7818166741229 , validation cost is 1.2310885543596244\n",
      "Slope:  -1.1895821742428279\n",
      "Intercept:  0.5467154689507182\n"
     ]
    }
   ],
   "source": [
    "# Train the your own linear regression, and print slope/intercept\n",
    "your_model.fit(X_train, y_train, X_val, y_val)\n",
    "print('Slope: ', your_model.coef_)\n",
    "print('Intercept: ', your_model.intercept_)"
   ]
  },
  {
   "cell_type": "code",
   "execution_count": 0,
   "metadata": {
    "colab": {},
    "colab_type": "code",
    "id": "7QBL3raquNMz"
   },
   "outputs": [],
   "source": [
    "# Use trained sklearn model to predict training data and validation data\n",
    "y_pred = your_model.predict(X_train)\n",
    "y_val_pred = your_model.predict(X_val)"
   ]
  },
  {
   "cell_type": "code",
   "execution_count": 0,
   "metadata": {
    "colab": {
     "base_uri": "https://localhost:8080/",
     "height": 350
    },
    "colab_type": "code",
    "id": "wDRCw7nhuOHu",
    "outputId": "4d9453b4-9506-45b6-ba0a-0735839a68ba"
   },
   "outputs": [
    {
     "data": {
      "image/png": "[encoded data removed]",
      "text/plain": [
       "<Figure size 720x360 with 1 Axes>"
      ]
     },
     "metadata": {
      "tags": []
     },
     "output_type": "display_data"
    }
   ],
   "source": [
    "plt.figure(1, figsize=(10,5))\n",
    "plt.title('Price v.s. Time')\n",
    "plt.scatter(X_train, y_train, color='g', label='Actual Training Price')\n",
    "plt.scatter(X_val, y_val, color='b', label='Actual Testing Price')\n",
    "plt.plot(X_train, y_pred, color='y', label='Predicted Training Price')\n",
    "plt.plot(X_val, y_val_pred, color='r', label='Predicted Testing Price')\n",
    "plt.xlabel('Integer Date')\n",
    "plt.ylabel('Stock Price')\n",
    "plt.legend()\n",
    "plt.show()\n"
   ]
  },
  {
   "cell_type": "markdown",
   "metadata": {
    "colab_type": "text",
    "id": "whZv48__4XIE"
   },
   "source": [
    "#Model Evaluation"
   ]
  },
  {
   "cell_type": "markdown",
   "metadata": {
    "colab_type": "text",
    "id": "erXrWnpGuhWa"
   },
   "source": [
    "##Train and Validation cost"
   ]
  },
  {
   "cell_type": "code",
   "execution_count": 0,
   "metadata": {
    "colab": {
     "base_uri": "https://localhost:8080/",
     "height": 301
    },
    "colab_type": "code",
    "id": "AcrYkqST4Znw",
    "outputId": "7199865f-4b14-4472-cf91-01a42b9c5929"
   },
   "outputs": [
    {
     "data": {
      "image/png": "[encoded data removed]",
      "text/plain": [
       "<Figure size 432x288 with 1 Axes>"
      ]
     },
     "metadata": {
      "tags": []
     },
     "output_type": "display_data"
    }
   ],
   "source": [
    "plt.plot(np.array(your_model.train_costs)[:,0], np.array(your_model.train_costs)[:,1], color='b')\n",
    "plt.plot(np.array(your_model.val_costs)[:,0], np.array(your_model.val_costs)[:,1], color='r')\n",
    "plt.title('Train Cost Curve', fontsize=16)\n",
    "plt.xlabel('epoch', fontsize=14)\n",
    "plt.ylabel('cost', fontsize=14)\n",
    "\n",
    "plt.show()"
   ]
  }
 ],
 "metadata": {
  "colab": {
   "collapsed_sections": [],
   "name": "Copy of Linear-regression-blank-medium.ipynb",
   "provenance": []
  },
  "kernelspec": {
   "display_name": "Python 3",
   "language": "python",
   "name": "python3"
  },
  "language_info": {
   "codemirror_mode": {
    "name": "ipython",
    "version": 3
   },
   "file_extension": ".py",
   "mimetype": "text/x-python",
   "name": "python",
   "nbconvert_exporter": "python",
   "pygments_lexer": "ipython3",
   "version": "3.7.6"
  }
 },
 "nbformat": 4,
 "nbformat_minor": 1
}

{
 "cells": [
  {
   "cell_type": "markdown",
   "metadata": {
    "colab_type": "text",
    "id": "Zgzv1mPHlkYh"
   },
   "source": [
    "# Import\n"
   ]
  },
  {
   "cell_type": "code",
   "execution_count": 0,
   "metadata": {
    "colab": {},
    "colab_type": "code",
    "id": "hJjlnsPOlsWw"
   },
   "outputs": [],
   "source": [
    "import numpy as np\n",
    "import matplotlib.pyplot as plt\n",
    "import pandas as pd\n",
    "from sklearn.linear_model import LogisticRegression\n",
    "from sklearn.metrics import accuracy_score\n",
    "from sklearn.model_selection import train_test_split\n"
   ]
  },
  {
   "cell_type": "markdown",
   "metadata": {
    "colab_type": "text",
    "id": "kPalgntrlkck"
   },
   "source": [
    "#Data preprocessing"
   ]
  },
  {
   "cell_type": "code",
   "execution_count": 0,
   "metadata": {
    "colab": {
     "base_uri": "https://localhost:8080/",
     "height": 282
    },
    "colab_type": "code",
    "id": "yvIjRCX_lCTi",
    "outputId": "030f0ce4-28ac-495e-d7a0-f333001d26ab"
   },
   "outputs": [
    {
     "data": {
      "text/plain": [
       "<matplotlib.collections.PathCollection at 0x7fd9af967be0>"
      ]
     },
     "execution_count": 204,
     "metadata": {
      "tags": []
     },
     "output_type": "execute_result"
    },
    {
     "data": {
      "image/png": "[encoded data removed]",
      "text/plain": [
       "<Figure size 432x288 with 1 Axes>"
      ]
     },
     "metadata": {
      "tags": []
     },
     "output_type": "display_data"
    }
   ],
   "source": [
    "# This part is the same as what we did in Logistic regression project\n",
    "\n",
    "# Load data from csv file \"binary_data.csv\"\n",
    "data = pd.read_csv(\"binary_data.csv\", header=None)\n",
    "\n",
    "data.isnull()\n",
    "# We want to drop those rows where some entries are nan\n",
    "data.dropna(inplace=True)\n",
    "# Check if they are dropped\n",
    "data.isnull().sum()\n",
    "\n",
    "X = data.iloc[:, :-1]\n",
    "y = data.iloc[:, -1]\n",
    "\n",
    "ones = data.loc[y == 1]\n",
    "zeros = data.loc[y == 0]\n",
    "\n",
    "# Use different color to visualize scatter plot\n",
    "plt.scatter(ones.iloc[:, 0], ones.iloc[:, 1], s=20)\n",
    "plt.scatter(zeros.iloc[:, 0], zeros.iloc[:, 1], s=20)\n",
    "# split the train and validation set randomly in ratio 9:1\n",
    "train, validation = train_test_split(data, test_size=0.1)\n",
    "\n",
    "def data_transform(data):\n",
    "  # Transform the data format to the format that model accepts\n",
    "  # data frame -> numpy array\n",
    "  X, y = data.iloc[:, :-1], data.iloc[:, -1]\n",
    "  X = np.array(X)\n",
    "  y = np.array(y).reshape(-1,1)\n",
    "  return X, y\n",
    "\n",
    "X_train, y_train = data_transform(train)\n",
    "X_val, y_val = data_transform(validation)\n",
    "\n",
    "# initializa a Gaussian noise of mean 0, standard deviation 10\n",
    "noise = np.random.normal(0,10,X_train.shape)\n",
    "X_train_noisy = X_train + noise\n",
    "\n",
    "plt.scatter(X_train[:, 0], X_train[:, 1], s=20, color='g')\n",
    "plt.scatter(X_train_noisy[:,0], X_train_noisy[:,1], s=20, color='b')\n"
   ]
  },
  {
   "cell_type": "markdown",
   "metadata": {
    "colab_type": "text",
    "id": "8lA25cb4mC1b"
   },
   "source": [
    "# Model Architecture"
   ]
  },
  {
   "cell_type": "markdown",
   "metadata": {
    "colab_type": "text",
    "id": "2pCYK6aHmMtV"
   },
   "source": [
    "## Logistic regression"
   ]
  },
  {
   "cell_type": "code",
   "execution_count": 0,
   "metadata": {
    "colab": {},
    "colab_type": "code",
    "id": "zuijl89vlpLE"
   },
   "outputs": [],
   "source": [
    "class LogisticRegression:\n",
    "    def __init__(self, learning_rate=0.001, epochs=500000):\n",
    "      # initialize model parameters, hyperparameters and other variables\n",
    "      self.learning_rate = learning_rate\n",
    "      self.epochs = epochs\n",
    "      self.train_costs = []\n",
    "      self.val_costs = []\n",
    "    \n",
    "    def sigmoid(self, x):\n",
    "      # Implemente the function of sigmoid\n",
    "      return 1 / (1 + np.exp(-x))\n",
    "\n",
    "    def cost(self, h, y):\n",
    "      # Implemente the cost function\n",
    "      return np.mean(-y * np.log(h) - (1 - y) * np.log(1 - h))\n",
    "    \n",
    "    def fit(self, X, y, X_val, y_val):\n",
    "      # concat x_0=1 in X for the bias term\n",
    "      # X = [1, X]\n",
    "      X = np.concatenate((np.ones((X.shape[0], 1)), X), axis=1)\n",
    "      y = y.flatten()\n",
    "      X_val = np.concatenate((np.ones((X_val.shape[0], 1)), X_val), axis=1)\n",
    "      y_val = y_val.flatten()\n",
    "      \n",
    "      # weights including w,b, are initialized\n",
    "      # weights = [b, w1, w2]\n",
    "      self.weights = np.zeros(X.shape[1])\n",
    "      \n",
    "      cost_lst = []\n",
    "      for i in range(self.epochs):\n",
    "        y_pred = self.sigmoid(np.dot(X, self.weights))\n",
    "        # compute the gradient with respect to weights\n",
    "        gradient = np.dot(X.T, (y_pred - y))\n",
    "        self.weights -= self.learning_rate * gradient/X.shape[0]\n",
    "        \n",
    "        cost = self.cost(y_pred, y)\n",
    "        cost_lst.append([i,cost])\n",
    "\n",
    "        if i % 100000 == 0:\n",
    "          # compute cost for validation set\n",
    "          y_val_pred = self.sigmoid(np.dot(X_val, self.weights))\n",
    "          val_cost = self.cost(y_val_pred, y_val)\n",
    "          self.val_costs.append([i, val_cost])\n",
    "\n",
    "          print('Epoch', i, ': train cost is', cost, ', validation cost is', val_cost)\n",
    "\n",
    "      self.train_costs = cost_lst\n",
    "      self.coef_ = self.weights[1:].reshape(1,-1)\n",
    "      self.intercept_ = self.weights[0].reshape(1,-1)\n",
    "\n",
    "    def predict(self, X):\n",
    "      X = np.concatenate((np.ones((X.shape[0], 1)), X), axis=1)\n",
    "      return self.sigmoid(np.dot(X, self.weights)).round()"
   ]
  },
  {
   "cell_type": "markdown",
   "metadata": {
    "colab_type": "text",
    "id": "ORkAM-ztmRK8"
   },
   "source": [
    "## Single neuron + Sigmoid activation"
   ]
  },
  {
   "cell_type": "code",
   "execution_count": 0,
   "metadata": {
    "colab": {},
    "colab_type": "code",
    "id": "KyoP48ferUPn"
   },
   "outputs": [],
   "source": [
    "class SingleNeuron:\n",
    "    def __init__(self, learning_rate=0.001, epochs=500000):\n",
    "      # initialize model parameters, hyperparameters and other variables\n",
    "      self.learning_rate = learning_rate\n",
    "      self.epochs = epochs\n",
    "      self.train_costs = []\n",
    "      self.val_costs = []\n",
    "    \n",
    "    def sigmoid(self, x):\n",
    "      # Implement the function of sigmoid\n",
    "      return 1 / (1 + np.exp(-x))\n",
    "\n",
    "    def cost(self, h, y):\n",
    "      # Implement the cost function\n",
    "      return np.mean(-y * np.log(h) - (1 - y) * np.log(1 - h))\n",
    "    \n",
    "    def forward(self, X):\n",
    "      # Implement the forward pass from input layer to output layer\n",
    "      return self.sigmoid(np.dot(X,self.weights))\n",
    "\n",
    "    def backward(self, X, y, y_pred):\n",
    "      # Implement the backward pass\n",
    "      # Calculate the gradient first\n",
    "      # Update each weights using the gradients\n",
    "      H=self.forward(X)\n",
    "      gradient = np.dot((-y)*(1-H),X)+np.dot((1-y)*H,X)\n",
    "      self.weights -= self.learning_rate * gradient/X.shape[0]\n",
    "\n",
    "    def fit(self, X, y, X_val, y_val):\n",
    "      # concat x_0=1 in X for the bias term\n",
    "      # X = [1, X]\n",
    "      X = np.concatenate((np.ones((X.shape[0], 1)), X), axis=1)\n",
    "      y = y.flatten()\n",
    "      X_val = np.concatenate((np.ones((X_val.shape[0], 1)), X_val), axis=1)\n",
    "      y_val = y_val.flatten()\n",
    "      \n",
    "      # weights including w,b, are initialized\n",
    "      # weights = [b, w1, w2]\n",
    "      self.weights = np.zeros(X.shape[1])\n",
    "      \n",
    "      cost_lst = []\n",
    "      for i in range(self.epochs):\n",
    "        # forward and backward\n",
    "        y_pred=self.forward(X)\n",
    "        self.backward(X,y,y_pred)\n",
    "        cost = self.cost(y_pred, y)\n",
    "        cost_lst.append([i,cost])\n",
    "\n",
    "        if i % 100000 == 0:\n",
    "          # compute cost for validation set\n",
    "          y_val_pred = self.forward(X_val)\n",
    "          val_cost = self.cost(y_val_pred, y_val)\n",
    "          self.val_costs.append([i, val_cost])\n",
    "\n",
    "          print('Epoch', i, ': train cost is', cost, ', validation cost is', val_cost)\n",
    "\n",
    "      self.train_costs = cost_lst\n",
    "      self.coef_ = self.weights[1:].reshape(1,-1)\n",
    "      self.intercept_ = self.weights[0].reshape(1,-1)\n",
    "\n",
    "    def predict(self, X):\n",
    "      X = np.concatenate((np.ones((X.shape[0], 1)), X), axis=1)\n",
    "      return self.sigmoid(np.dot(X, self.weights)).round()"
   ]
  },
  {
   "cell_type": "markdown",
   "metadata": {
    "colab_type": "text",
    "id": "n1f9E2okrKCn"
   },
   "source": [
    "# Training and evaluation"
   ]
  },
  {
   "cell_type": "code",
   "execution_count": 0,
   "metadata": {
    "colab": {
     "base_uri": "https://localhost:8080/",
     "height": 119
    },
    "colab_type": "code",
    "id": "ZBcy_9iBmHqb",
    "outputId": "a532b5ca-5d2a-4244-98e1-124af12df476"
   },
   "outputs": [
    {
     "name": "stdout",
     "output_type": "stream",
     "text": [
      "Epoch 0 : train cost is 0.6931471805599454 , validation cost is 0.9592250560038463\n",
      "Epoch 100000 : train cost is 0.4210513296767198 , validation cost is 0.5326989456079501\n",
      "Epoch 200000 : train cost is 0.37733809067500607 , validation cost is 0.4750702488610913\n",
      "Epoch 300000 : train cost is 0.3612464155296799 , validation cost is 0.4475472278034746\n",
      "Epoch 400000 : train cost is 0.35389646716557965 , validation cost is 0.4316591906088408\n",
      "The accuracy on training set is 0.9285714285714286\n"
     ]
    }
   ],
   "source": [
    "# Train your own model with Gaussian noise\n",
    "logistic = LogisticRegression()\n",
    "logistic.fit(X_train_noisy, y_train, X_val, y_val)\n",
    "y_pred = logistic.predict(X_train)\n",
    "accuracy = accuracy_score(y_train.flatten(), y_pred)\n",
    "print('The accuracy on training set is {}'.format(accuracy))\n"
   ]
  },
  {
   "cell_type": "code",
   "execution_count": 0,
   "metadata": {
    "colab": {
     "base_uri": "https://localhost:8080/",
     "height": 301
    },
    "colab_type": "code",
    "id": "LxTvPDNemplx",
    "outputId": "dbe49205-a3e7-4caf-ba0d-2935183ee2a7"
   },
   "outputs": [
    {
     "data": {
      "image/png": "[encoded data removed]",
      "text/plain": [
       "<Figure size 432x288 with 1 Axes>"
      ]
     },
     "metadata": {
      "tags": []
     },
     "output_type": "display_data"
    }
   ],
   "source": [
    "# Visualize the cost of training set and testing set\n",
    "# Use the model with Gaussian noise\n",
    "plt.plot(np.array(logistic.train_costs)[:,0], np.array(logistic.train_costs)[:,1], color='b')\n",
    "plt.plot(np.array(logistic.val_costs)[:,0], np.array(logistic.val_costs)[:,1], color='r')\n",
    "plt.title('Train Cost Curve', fontsize=16)\n",
    "plt.xlabel('epoch', fontsize=14)\n",
    "plt.ylabel('cost', fontsize=14)\n",
    "\n",
    "plt.show()"
   ]
  },
  {
   "cell_type": "code",
   "execution_count": 0,
   "metadata": {
    "colab": {
     "base_uri": "https://localhost:8080/",
     "height": 119
    },
    "colab_type": "code",
    "id": "NhhmS_9NnuCI",
    "outputId": "a3a1c260-f974-4ae4-f078-c3fe2f1e6cee"
   },
   "outputs": [
    {
     "name": "stdout",
     "output_type": "stream",
     "text": [
      "Epoch 0 : train cost is 0.6931471805599454 , validation cost is 0.9592250560038463\n",
      "Epoch 100000 : train cost is 0.4210513296767198 , validation cost is 0.5326989456079501\n",
      "Epoch 200000 : train cost is 0.377338090675006 , validation cost is 0.4750702488610914\n",
      "Epoch 300000 : train cost is 0.3612464155296799 , validation cost is 0.4475472278034746\n",
      "Epoch 400000 : train cost is 0.35389646716557965 , validation cost is 0.4316591906088408\n",
      "The accuracy on training set is 0.9285714285714286\n"
     ]
    }
   ],
   "source": [
    "# Train your own model with Gaussian noise\n",
    "single_neuron = SingleNeuron()\n",
    "single_neuron.fit(X_train_noisy, y_train, X_val, y_val)\n",
    "y_pred = single_neuron.predict(X_train)\n",
    "accuracy = accuracy_score(y_train.flatten(), y_pred)\n",
    "print('The accuracy on training set is {}'.format(accuracy))\n"
   ]
  },
  {
   "cell_type": "code",
   "execution_count": 0,
   "metadata": {
    "colab": {
     "base_uri": "https://localhost:8080/",
     "height": 301
    },
    "colab_type": "code",
    "id": "qpfd8b7ns4LV",
    "outputId": "9d06900d-7e7c-415d-e989-5e7e160f43cb"
   },
   "outputs": [
    {
     "data": {
      "image/png": "[encoded data removed]",
      "text/plain": [
       "<Figure size 432x288 with 1 Axes>"
      ]
     },
     "metadata": {
      "tags": []
     },
     "output_type": "display_data"
    }
   ],
   "source": [
    "# Visualize the cost of training set and testing set\n",
    "# Use the model with Gaussian noise\n",
    "plt.plot(np.array(single_neuron.train_costs)[:,0], np.array(single_neuron.train_costs)[:,1], color='b')\n",
    "plt.plot(np.array(single_neuron.val_costs)[:,0], np.array(single_neuron.val_costs)[:,1], color='r')\n",
    "plt.title('Train Cost Curve', fontsize=16)\n",
    "plt.xlabel('epoch', fontsize=14)\n",
    "plt.ylabel('cost', fontsize=14)\n",
    "\n",
    "plt.show()"
   ]
  },
  {
   "cell_type": "markdown",
   "metadata": {
    "colab_type": "text",
    "id": "yOBWs30g6FpQ"
   },
   "source": [
    "# Cross Validation"
   ]
  },
  {
   "cell_type": "code",
   "execution_count": 0,
   "metadata": {
    "colab": {
     "base_uri": "https://localhost:8080/",
     "height": 1000
    },
    "colab_type": "code",
    "id": "FuVnEJbOr4hZ",
    "outputId": "6755844f-55da-4dd0-f66f-e582a88d89b1"
   },
   "outputs": [
    {
     "name": "stdout",
     "output_type": "stream",
     "text": [
      "TRAIN: [77 56 13 68 44 67 53 69 26 57 30  1 15 19 35 73 76 60 32 40 31 71 47 52\n",
      "  0 62 70 82 21 37 59 24 36 48 58  5 61 34  8 43 45 83 27  2 80 72 41 23\n",
      " 49 22 38 51 63 29 20 78 74 28  9 50 66 39 10 54  7 18 64 17 25 12 46 33\n",
      "  4 55 16] TEST: [81  6 65 75 79 11 14 42  3]\n",
      "Epoch 0 : train cost is 0.6931471805599454 , validation cost is 0.4924878203729034\n",
      "Epoch 100000 : train cost is 0.40958714600196944 , validation cost is 0.4589859254258464\n",
      "Epoch 200000 : train cost is 0.35975797287721295 , validation cost is 0.4738789565432048\n",
      "Epoch 300000 : train cost is 0.3405579915259084 , validation cost is 0.4931659633416663\n",
      "Epoch 400000 : train cost is 0.33134016728234145 , validation cost is 0.5098398613925641\n",
      "The accuracy on training set is 0.8533333333333334\n",
      "\n",
      "TRAIN: [81  6 65 75 79 11 14 42  3 57 30  1 15 19 35 73 76 60 32 40 31 71 47 52\n",
      "  0 62 70 82 21 37 59 24 36 48 58  5 61 34  8 43 45 83 27  2 80 72 41 23\n",
      " 49 22 38 51 63 29 20 78 74 28  9 50 66 39 10 54  7 18 64 17 25 12 46 33\n",
      "  4 55 16] TEST: [77 56 13 68 44 67 53 69 26]\n",
      "Epoch 0 : train cost is 0.6931471805599454 , validation cost is 0.612171207829147\n",
      "Epoch 100000 : train cost is 0.4324282597409406 , validation cost is 0.3799116779029348\n",
      "Epoch 200000 : train cost is 0.39163857549353603 , validation cost is 0.3043985043231927\n",
      "Epoch 300000 : train cost is 0.376799325407932 , validation cost is 0.2710038453174166\n",
      "Epoch 400000 : train cost is 0.3701354273263831 , validation cost is 0.25276597020168323\n",
      "The accuracy on training set is 0.8266666666666667\n",
      "\n",
      "TRAIN: [81  6 65 75 79 11 14 42  3 77 56 13 68 44 67 53 69 26 32 40 31 71 47 52\n",
      "  0 62 70 82 21 37 59 24 36 48 58  5 61 34  8 43 45 83 27  2 80 72 41 23\n",
      " 49 22 38 51 63 29 20 78 74 28  9 50 66 39 10 54  7 18 64 17 25 12 46 33\n",
      "  4 55 16] TEST: [57 30  1 15 19 35 73 76 60]\n",
      "Epoch 0 : train cost is 0.6931471805599454 , validation cost is 1.1247753982121607\n",
      "Epoch 100000 : train cost is 0.4018238330982284 , validation cost is 0.5921695304646972\n",
      "Epoch 200000 : train cost is 0.35787896249380924 , validation cost is 0.5483178442173854\n",
      "Epoch 300000 : train cost is 0.3415650426847767 , validation cost is 0.5331897277593047\n",
      "Epoch 400000 : train cost is 0.3340502167269727 , validation cost is 0.5269038819590759\n",
      "The accuracy on training set is 0.8533333333333334\n",
      "\n",
      "TRAIN: [81  6 65 75 79 11 14 42  3 77 56 13 68 44 67 53 69 26 57 30  1 15 19 35\n",
      " 73 76 60 82 21 37 59 24 36 48 58  5 61 34  8 43 45 83 27  2 80 72 41 23\n",
      " 49 22 38 51 63 29 20 78 74 28  9 50 66 39 10 54  7 18 64 17 25 12 46 33\n",
      "  4 55 16] TEST: [32 40 31 71 47 52  0 62 70]\n",
      "Epoch 0 : train cost is 0.6931471805599454 , validation cost is 0.682100125153006\n",
      "Epoch 100000 : train cost is 0.4033958278832218 , validation cost is 0.5445589292165084\n",
      "Epoch 200000 : train cost is 0.3568407320704088 , validation cost is 0.54286366865837\n",
      "Epoch 300000 : train cost is 0.3396367738743021 , validation cost is 0.5494547498512009\n",
      "Epoch 400000 : train cost is 0.3316476149125808 , validation cost is 0.5568174443365882\n",
      "The accuracy on training set is 0.8533333333333334\n",
      "\n",
      "TRAIN: [81  6 65 75 79 11 14 42  3 77 56 13 68 44 67 53 69 26 57 30  1 15 19 35\n",
      " 73 76 60 32 40 31 71 47 52  0 62 70  5 61 34  8 43 45 83 27  2 80 72 41\n",
      " 23 49 22 38 51 63 29 20 78 74 28  9 50 66 39 10 54  7 18 64 17 25 12 46\n",
      " 33  4 55 16] TEST: [82 21 37 59 24 36 48 58]\n",
      "Epoch 0 : train cost is 0.6931471805599454 , validation cost is 0.4606758607933949\n",
      "Epoch 100000 : train cost is 0.4396848139597651 , validation cost is 0.2703786553056775\n",
      "Epoch 200000 : train cost is 0.3978191519215951 , validation cost is 0.20555583381052706\n",
      "Epoch 300000 : train cost is 0.3826928993813671 , validation cost is 0.17755917860514212\n",
      "Epoch 400000 : train cost is 0.3759389608367076 , validation cost is 0.16236698489085\n",
      "The accuracy on training set is 0.8157894736842105\n",
      "\n",
      "TRAIN: [81  6 65 75 79 11 14 42  3 77 56 13 68 44 67 53 69 26 57 30  1 15 19 35\n",
      " 73 76 60 32 40 31 71 47 52  0 62 70 82 21 37 59 24 36 48 58  2 80 72 41\n",
      " 23 49 22 38 51 63 29 20 78 74 28  9 50 66 39 10 54  7 18 64 17 25 12 46\n",
      " 33  4 55 16] TEST: [ 5 61 34  8 43 45 83 27]\n",
      "Epoch 0 : train cost is 0.6931471805599454 , validation cost is 0.5325815410945429\n",
      "Epoch 100000 : train cost is 0.42066025950744834 , validation cost is 0.39735203873844244\n",
      "Epoch 200000 : train cost is 0.37333370149818995 , validation cost is 0.390664016833691\n",
      "Epoch 300000 : train cost is 0.35553073526505036 , validation cost is 0.3972548284147115\n",
      "Epoch 400000 : train cost is 0.3471750719655655 , validation cost is 0.4054556327181619\n",
      "The accuracy on training set is 0.8157894736842105\n",
      "\n",
      "TRAIN: [81  6 65 75 79 11 14 42  3 77 56 13 68 44 67 53 69 26 57 30  1 15 19 35\n",
      " 73 76 60 32 40 31 71 47 52  0 62 70 82 21 37 59 24 36 48 58  5 61 34  8\n",
      " 43 45 83 27 51 63 29 20 78 74 28  9 50 66 39 10 54  7 18 64 17 25 12 46\n",
      " 33  4 55 16] TEST: [ 2 80 72 41 23 49 22 38]\n",
      "Epoch 0 : train cost is 0.6931471805599454 , validation cost is 0.6549604895784091\n",
      "Epoch 100000 : train cost is 0.4400602767311908 , validation cost is 0.2978593867437376\n",
      "Epoch 200000 : train cost is 0.3994864972413342 , validation cost is 0.21301008170264926\n",
      "Epoch 300000 : train cost is 0.3845819896215824 , validation cost is 0.17566174831350312\n",
      "Epoch 400000 : train cost is 0.3778531722002931 , validation cost is 0.15529446610245917\n",
      "The accuracy on training set is 0.7894736842105263\n",
      "\n",
      "TRAIN: [81  6 65 75 79 11 14 42  3 77 56 13 68 44 67 53 69 26 57 30  1 15 19 35\n",
      " 73 76 60 32 40 31 71 47 52  0 62 70 82 21 37 59 24 36 48 58  5 61 34  8\n",
      " 43 45 83 27  2 80 72 41 23 49 22 38 50 66 39 10 54  7 18 64 17 25 12 46\n",
      " 33  4 55 16] TEST: [51 63 29 20 78 74 28  9]\n",
      "Epoch 0 : train cost is 0.6931471805599454 , validation cost is 1.2860390911839716\n",
      "Epoch 100000 : train cost is 0.4031081161277146 , validation cost is 0.6337818754962521\n",
      "Epoch 200000 : train cost is 0.3618514307572414 , validation cost is 0.5692065609258155\n",
      "Epoch 300000 : train cost is 0.3469903541164946 , validation cost is 0.5411691025904888\n",
      "Epoch 400000 : train cost is 0.34034308846826383 , validation cost is 0.5261897469057379\n",
      "The accuracy on training set is 0.868421052631579\n",
      "\n",
      "TRAIN: [81  6 65 75 79 11 14 42  3 77 56 13 68 44 67 53 69 26 57 30  1 15 19 35\n",
      " 73 76 60 32 40 31 71 47 52  0 62 70 82 21 37 59 24 36 48 58  5 61 34  8\n",
      " 43 45 83 27  2 80 72 41 23 49 22 38 51 63 29 20 78 74 28  9 17 25 12 46\n",
      " 33  4 55 16] TEST: [50 66 39 10 54  7 18 64]\n",
      "Epoch 0 : train cost is 0.6931471805599454 , validation cost is 0.6826585911839785\n",
      "Epoch 100000 : train cost is 0.43222220200293965 , validation cost is 0.3687801319102928\n",
      "Epoch 200000 : train cost is 0.3931767977822506 , validation cost is 0.2797347694872068\n",
      "Epoch 300000 : train cost is 0.37929929188973205 , validation cost is 0.23697572382683776\n",
      "Epoch 400000 : train cost is 0.3731797356977026 , validation cost is 0.21230405337166228\n",
      "The accuracy on training set is 0.8157894736842105\n",
      "\n",
      "TRAIN: [81  6 65 75 79 11 14 42  3 77 56 13 68 44 67 53 69 26 57 30  1 15 19 35\n",
      " 73 76 60 32 40 31 71 47 52  0 62 70 82 21 37 59 24 36 48 58  5 61 34  8\n",
      " 43 45 83 27  2 80 72 41 23 49 22 38 51 63 29 20 78 74 28  9 50 66 39 10\n",
      " 54  7 18 64] TEST: [17 25 12 46 33  4 55 16]\n",
      "Epoch 0 : train cost is 0.6931471805599454 , validation cost is 0.6952405956956157\n",
      "Epoch 100000 : train cost is 0.4166603857431404 , validation cost is 0.44576001972788637\n",
      "Epoch 200000 : train cost is 0.3687065595048845 , validation cost is 0.43438530385642593\n",
      "Epoch 300000 : train cost is 0.35035639428107723 , validation cost is 0.440388549133058\n",
      "Epoch 400000 : train cost is 0.34169178293087765 , validation cost is 0.44849771882192346\n",
      "The accuracy on training set is 0.8157894736842105\n",
      "\n",
      "The average score is:  0.8307719298245614\n"
     ]
    }
   ],
   "source": [
    "# 10-fold cross validation, print the average accuracy\n",
    "\n",
    "#Solution without additional library used\n",
    "num=np.arange(X_train_noisy.shape[0])\n",
    "np.random.shuffle(num)\n",
    "index=np.array_split(num, 10)\n",
    "score=0\n",
    "for i in range(10):\n",
    "  train_index=np.delete(index,i,0)\n",
    "  train_index=np.concatenate(train_index,axis=0)\n",
    "  test_index=index[i]\n",
    "  print(\"TRAIN:\", train_index, \"TEST:\", test_index)\n",
    "  X_t, X_s = X_train_noisy[train_index], X_train_noisy[test_index]\n",
    "  y_t, y_s = y_train[train_index], y_train[test_index]\n",
    "  single_neuron.fit(X_t, y_t, X_s, y_s)\n",
    "  y_pred = single_neuron.predict(X_t)\n",
    "  accuracy = accuracy_score(y_t.flatten(), y_pred)\n",
    "  score+=accuracy\n",
    "  print('The accuracy on training set is {}\\n'.format(accuracy))\n",
    "print(\"The average score is: \", score/10)"
   ]
  },
  {
   "cell_type": "code",
   "execution_count": 0,
   "metadata": {
    "colab": {
     "base_uri": "https://localhost:8080/",
     "height": 1000
    },
    "colab_type": "code",
    "id": "W3GIzhWr6Eir",
    "outputId": "88fca760-1958-45b7-864d-b06cf831ede2"
   },
   "outputs": [
    {
     "name": "stdout",
     "output_type": "stream",
     "text": [
      "TRAIN: [ 1  2  3  4  5  6  7  8  9 12 14 15 16 17 19 20 21 22 23 24 25 26 27 28\n",
      " 29 30 31 32 33 34 36 37 39 40 41 43 44 45 46 47 48 49 50 51 52 54 55 56\n",
      " 57 58 59 60 61 62 63 64 65 66 67 68 69 70 71 72 73 74 75 76 77 78 79 80\n",
      " 81 82 83] TEST: [ 0 10 11 13 18 35 38 42 53]\n",
      "Epoch 0 : train cost is 0.6931471805599454 , validation cost is 0.5806799137432873\n",
      "Epoch 100000 : train cost is 0.43951873094599325 , validation cost is 0.3081211533742039\n",
      "Epoch 200000 : train cost is 0.39696650065318284 , validation cost is 0.2428427094561329\n",
      "Epoch 300000 : train cost is 0.3809991883396078 , validation cost is 0.21778833842579648\n",
      "Epoch 400000 : train cost is 0.37364066870977825 , validation cost is 0.20575291456827433\n",
      "The accuracy on training set is 0.8133333333333334\n",
      "\n",
      "TRAIN: [ 0  1  2  3  4  5  6  7  8  9 10 11 12 13 14 16 17 18 19 20 21 22 23 24\n",
      " 25 27 28 29 30 32 33 34 35 36 37 38 39 40 41 42 44 45 46 47 48 49 50 51\n",
      " 52 53 54 55 57 58 59 60 62 63 64 65 66 68 69 71 72 73 74 75 76 77 78 80\n",
      " 81 82 83] TEST: [15 26 31 43 56 61 67 70 79]\n",
      "Epoch 0 : train cost is 0.6931471805599454 , validation cost is 0.4725334535596477\n",
      "Epoch 100000 : train cost is 0.42052299756201345 , validation cost is 0.3953298889192921\n",
      "Epoch 200000 : train cost is 0.3748984827436355 , validation cost is 0.37826977802760936\n",
      "Epoch 300000 : train cost is 0.3581497663437032 , validation cost is 0.37578439502428873\n",
      "Epoch 400000 : train cost is 0.35045050709227327 , validation cost is 0.3769198011160765\n",
      "The accuracy on training set is 0.84\n",
      "\n",
      "TRAIN: [ 0  1  3  4  5  6  7  8 10 11 12 13 15 16 17 18 19 20 21 22 23 24 25 26\n",
      " 28 29 30 31 32 33 34 35 36 38 39 40 41 42 43 44 45 46 47 49 50 51 53 54\n",
      " 55 56 57 58 59 61 62 63 64 65 66 67 68 69 70 71 72 73 74 75 76 77 78 79\n",
      " 81 82 83] TEST: [ 2  9 14 27 37 48 52 60 80]\n",
      "Epoch 0 : train cost is 0.6931471805599454 , validation cost is 0.8323149022935934\n",
      "Epoch 100000 : train cost is 0.4275784093830249 , validation cost is 0.4058146579394814\n",
      "Epoch 200000 : train cost is 0.38886098147499887 , validation cost is 0.3228550903575805\n",
      "Epoch 300000 : train cost is 0.37531011518173346 , validation cost is 0.2826637376480089\n",
      "Epoch 400000 : train cost is 0.36942279514527976 , validation cost is 0.25931887425237643\n",
      "The accuracy on training set is 0.8133333333333334\n",
      "\n",
      "TRAIN: [ 0  2  3  4  8  9 10 11 12 13 14 15 17 18 19 20 21 22 23 24 26 27 28 29\n",
      " 30 31 32 33 35 36 37 38 39 40 41 42 43 44 45 46 47 48 49 50 51 52 53 54\n",
      " 55 56 57 58 60 61 62 63 64 65 66 67 68 69 70 71 72 73 74 75 76 77 78 79\n",
      " 80 82 83] TEST: [ 1  5  6  7 16 25 34 59 81]\n",
      "Epoch 0 : train cost is 0.6931471805599454 , validation cost is 0.8333646371254821\n",
      "Epoch 100000 : train cost is 0.4204709267683947 , validation cost is 0.4412260380443915\n",
      "Epoch 200000 : train cost is 0.3736091744370737 , validation cost is 0.4150714276111551\n",
      "Epoch 300000 : train cost is 0.35523008281662183 , validation cost is 0.4171463967202673\n",
      "Epoch 400000 : train cost is 0.3463442977645318 , validation cost is 0.4248954071911288\n",
      "The accuracy on training set is 0.84\n",
      "\n",
      "TRAIN: [ 0  1  2  3  4  5  6  7  8  9 10 11 13 14 15 16 17 18 19 20 21 22 23 24\n",
      " 25 26 27 28 29 30 31 33 34 35 36 37 38 39 40 41 42 43 44 45 47 48 49 50\n",
      " 51 52 53 54 55 56 59 60 61 62 63 64 65 66 67 68 69 70 71 72 73 75 76 77\n",
      " 79 80 81 82] TEST: [12 32 46 57 58 74 78 83]\n",
      "Epoch 0 : train cost is 0.6931471805599454 , validation cost is 0.3456606542227022\n",
      "Epoch 100000 : train cost is 0.4209773201879131 , validation cost is 0.38114008441109465\n",
      "Epoch 200000 : train cost is 0.3758785201360048 , validation cost is 0.3722353056408304\n",
      "Epoch 300000 : train cost is 0.3597670881409005 , validation cost is 0.3711684518846746\n",
      "Epoch 400000 : train cost is 0.35255621772837253 , validation cost is 0.37196726676802816\n",
      "The accuracy on training set is 0.8421052631578947\n",
      "\n",
      "TRAIN: [ 0  1  2  3  4  5  6  7  9 10 11 12 13 14 15 16 17 18 19 21 22 24 25 26\n",
      " 27 28 29 30 31 32 33 34 35 36 37 38 39 40 41 42 43 44 45 46 47 48 49 50\n",
      " 51 52 53 54 55 56 57 58 59 60 61 63 65 67 68 69 70 71 72 74 75 77 78 79\n",
      " 80 81 82 83] TEST: [ 8 20 23 62 64 66 73 76]\n",
      "Epoch 0 : train cost is 0.6931471805599454 , validation cost is 0.785422851127189\n",
      "Epoch 100000 : train cost is 0.403577428446826 , validation cost is 0.5603312170244709\n",
      "Epoch 200000 : train cost is 0.35791272531602514 , validation cost is 0.5408630846337674\n",
      "Epoch 300000 : train cost is 0.34104636286795553 , validation cost is 0.5374992751004108\n",
      "Epoch 400000 : train cost is 0.3332806412273551 , validation cost is 0.538090225805256\n",
      "The accuracy on training set is 0.8421052631578947\n",
      "\n",
      "TRAIN: [ 0  1  2  3  4  5  6  7  8  9 10 11 12 13 14 15 16 17 18 20 22 23 24 25\n",
      " 26 27 28 29 31 32 33 34 35 37 38 39 40 42 43 45 46 47 48 50 51 52 53 54\n",
      " 55 56 57 58 59 60 61 62 63 64 66 67 68 69 70 71 72 73 74 75 76 77 78 79\n",
      " 80 81 82 83] TEST: [19 21 30 36 41 44 49 65]\n",
      "Epoch 0 : train cost is 0.6931471805599454 , validation cost is 0.45725182073912574\n",
      "Epoch 100000 : train cost is 0.4373957029398673 , validation cost is 0.2930990723172184\n",
      "Epoch 200000 : train cost is 0.39483296167710086 , validation cost is 0.2350935827962739\n",
      "Epoch 300000 : train cost is 0.37925892154650803 , validation cost is 0.21126571214493728\n",
      "Epoch 400000 : train cost is 0.3722377086043529 , validation cost is 0.1988635558203969\n",
      "The accuracy on training set is 0.8026315789473685\n",
      "\n",
      "TRAIN: [ 0  1  2  4  5  6  7  8  9 10 11 12 13 14 15 16 18 19 20 21 22 23 24 25\n",
      " 26 27 29 30 31 32 33 34 35 36 37 38 39 40 41 42 43 44 45 46 48 49 50 52\n",
      " 53 54 55 56 57 58 59 60 61 62 64 65 66 67 68 70 71 72 73 74 75 76 77 78\n",
      " 79 80 81 83] TEST: [ 3 17 28 47 51 63 69 82]\n",
      "Epoch 0 : train cost is 0.6931471805599454 , validation cost is 1.0172916323489885\n",
      "Epoch 100000 : train cost is 0.40192496255871674 , validation cost is 0.6017824435105836\n",
      "Epoch 200000 : train cost is 0.35597989285485704 , validation cost is 0.5881147365912784\n",
      "Epoch 300000 : train cost is 0.33852944588472866 , validation cost is 0.5926658246828362\n",
      "Epoch 400000 : train cost is 0.3302600668005447 , validation cost is 0.6005995202955894\n",
      "The accuracy on training set is 0.8552631578947368\n",
      "\n",
      "TRAIN: [ 0  1  2  3  5  6  7  8  9 10 11 12 13 14 15 16 17 18 19 20 21 23 24 25\n",
      " 26 27 28 30 31 32 33 34 35 36 37 38 39 41 42 43 44 46 47 48 49 50 51 52\n",
      " 53 55 56 57 58 59 60 61 62 63 64 65 66 67 69 70 71 72 73 74 76 77 78 79\n",
      " 80 81 82 83] TEST: [ 4 22 29 40 45 54 68 75]\n",
      "Epoch 0 : train cost is 0.6931471805599454 , validation cost is 0.9489050259081979\n",
      "Epoch 100000 : train cost is 0.415781977081632 , validation cost is 0.49086008850314233\n",
      "Epoch 200000 : train cost is 0.373522848633582 , validation cost is 0.43060608069055306\n",
      "Epoch 300000 : train cost is 0.35808990827467835 , validation cost is 0.4052799401286251\n",
      "Epoch 400000 : train cost is 0.3511118924879202 , validation cost is 0.39200743759503226\n",
      "The accuracy on training set is 0.8157894736842105\n",
      "\n",
      "TRAIN: [ 0  1  2  3  4  5  6  7  8  9 10 11 12 13 14 15 16 17 18 19 20 21 22 23\n",
      " 25 26 27 28 29 30 31 32 34 35 36 37 38 40 41 42 43 44 45 46 47 48 49 51\n",
      " 52 53 54 56 57 58 59 60 61 62 63 64 65 66 67 68 69 70 73 74 75 76 78 79\n",
      " 80 81 82 83] TEST: [24 33 39 50 55 71 72 77]\n",
      "Epoch 0 : train cost is 0.6931471805599454 , validation cost is 0.9453746792166251\n",
      "Epoch 100000 : train cost is 0.4155002936495517 , validation cost is 0.49254083990813036\n",
      "Epoch 200000 : train cost is 0.37118569451964967 , validation cost is 0.44582781522351056\n",
      "Epoch 300000 : train cost is 0.35437602561699405 , validation cost is 0.4320740380687521\n",
      "Epoch 400000 : train cost is 0.34647836606194954 , validation cost is 0.4279442634639157\n",
      "The accuracy on training set is 0.8157894736842105\n",
      "\n",
      "The average score is:  0.8280350877192981\n"
     ]
    }
   ],
   "source": [
    "#Solution with library\n",
    "\n",
    "from sklearn.model_selection import KFold \n",
    "kf=KFold(n_splits=10,shuffle=True,random_state=None)\n",
    "score=0\n",
    "for train_index, test_index in kf.split(X_train_noisy):\n",
    "  print(\"TRAIN:\", train_index, \"TEST:\", test_index)\n",
    "  X_t, X_s = X_train_noisy[train_index], X_train_noisy[test_index]\n",
    "  y_t, y_s = y_train[train_index], y_train[test_index]\n",
    "  single_neuron.fit(X_t, y_t, X_s, y_s)\n",
    "  y_pred = single_neuron.predict(X_t)\n",
    "  accuracy = accuracy_score(y_t.flatten(), y_pred)\n",
    "  score+=accuracy\n",
    "  print('The accuracy on training set is {}\\n'.format(accuracy))\n",
    "print(\"The average score is: \", score/10)\n",
    "\n"
   ]
  }
 ],
 "metadata": {
  "colab": {
   "collapsed_sections": [
    "DsTob4AvuCKv"
   ],
   "name": "Copy of Single-neuron-classification-medium.ipynb",
   "provenance": []
  },
  "kernelspec": {
   "display_name": "Python 3",
   "language": "python",
   "name": "python3"
  },
  "language_info": {
   "codemirror_mode": {
    "name": "ipython",
    "version": 3
   },
   "file_extension": ".py",
   "mimetype": "text/x-python",
   "name": "python",
   "nbconvert_exporter": "python",
   "pygments_lexer": "ipython3",
   "version": "3.7.6"
  }
 },
 "nbformat": 4,
 "nbformat_minor": 1
}

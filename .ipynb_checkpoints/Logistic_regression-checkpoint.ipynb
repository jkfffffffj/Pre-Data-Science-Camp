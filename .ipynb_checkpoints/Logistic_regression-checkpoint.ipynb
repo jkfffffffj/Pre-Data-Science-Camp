{
 "cells": [
  {
   "cell_type": "markdown",
   "metadata": {
    "colab_type": "text",
    "id": "tdUxHurg0R2K"
   },
   "source": [
    "# import"
   ]
  },
  {
   "cell_type": "markdown",
   "metadata": {
    "colab_type": "text",
    "id": "dxquLVLDX2sG"
   },
   "source": [
    "# New Section"
   ]
  },
  {
   "cell_type": "code",
   "execution_count": 0,
   "metadata": {
    "colab": {},
    "colab_type": "code",
    "id": "sk5ugotywK56"
   },
   "outputs": [],
   "source": [
    "# imports\n",
    "import numpy as np\n",
    "import matplotlib.pyplot as plt\n",
    "import pandas as pd\n",
    "from sklearn.linear_model import LogisticRegression\n",
    "from sklearn.metrics import accuracy_score\n"
   ]
  },
  {
   "cell_type": "markdown",
   "metadata": {
    "colab_type": "text",
    "id": "0mMlT4ak0aO0"
   },
   "source": [
    "# Data preprocessing"
   ]
  },
  {
   "cell_type": "markdown",
   "metadata": {
    "colab_type": "text",
    "id": "7xCbKntv0fLQ"
   },
   "source": [
    "## Data loading"
   ]
  },
  {
   "cell_type": "code",
   "execution_count": 0,
   "metadata": {
    "colab": {
     "base_uri": "https://localhost:8080/",
     "height": 419
    },
    "colab_type": "code",
    "id": "0LdqOkS7zqlG",
    "outputId": "cab124ba-f2de-493a-8f87-6b9bb0a355b6"
   },
   "outputs": [
    {
     "data": {
      "text/html": [
       "<div>\n",
       "<style scoped>\n",
       "    .dataframe tbody tr th:only-of-type {\n",
       "        vertical-align: middle;\n",
       "    }\n",
       "\n",
       "    .dataframe tbody tr th {\n",
       "        vertical-align: top;\n",
       "    }\n",
       "\n",
       "    .dataframe thead th {\n",
       "        text-align: right;\n",
       "    }\n",
       "</style>\n",
       "<table border=\"1\" class=\"dataframe\">\n",
       "  <thead>\n",
       "    <tr style=\"text-align: right;\">\n",
       "      <th></th>\n",
       "      <th>0</th>\n",
       "      <th>1</th>\n",
       "      <th>2</th>\n",
       "    </tr>\n",
       "  </thead>\n",
       "  <tbody>\n",
       "    <tr>\n",
       "      <th>0</th>\n",
       "      <td>34.623660</td>\n",
       "      <td>78.024693</td>\n",
       "      <td>0.0</td>\n",
       "    </tr>\n",
       "    <tr>\n",
       "      <th>1</th>\n",
       "      <td>30.286711</td>\n",
       "      <td>43.894998</td>\n",
       "      <td>0.0</td>\n",
       "    </tr>\n",
       "    <tr>\n",
       "      <th>2</th>\n",
       "      <td>35.847409</td>\n",
       "      <td>72.902198</td>\n",
       "      <td>0.0</td>\n",
       "    </tr>\n",
       "    <tr>\n",
       "      <th>3</th>\n",
       "      <td>60.182599</td>\n",
       "      <td>86.308552</td>\n",
       "      <td>1.0</td>\n",
       "    </tr>\n",
       "    <tr>\n",
       "      <th>4</th>\n",
       "      <td>79.032736</td>\n",
       "      <td>75.344376</td>\n",
       "      <td>1.0</td>\n",
       "    </tr>\n",
       "    <tr>\n",
       "      <th>...</th>\n",
       "      <td>...</td>\n",
       "      <td>...</td>\n",
       "      <td>...</td>\n",
       "    </tr>\n",
       "    <tr>\n",
       "      <th>95</th>\n",
       "      <td>83.489163</td>\n",
       "      <td>48.380286</td>\n",
       "      <td>1.0</td>\n",
       "    </tr>\n",
       "    <tr>\n",
       "      <th>96</th>\n",
       "      <td>42.261701</td>\n",
       "      <td>87.103851</td>\n",
       "      <td>1.0</td>\n",
       "    </tr>\n",
       "    <tr>\n",
       "      <th>97</th>\n",
       "      <td>99.315009</td>\n",
       "      <td>68.775409</td>\n",
       "      <td>1.0</td>\n",
       "    </tr>\n",
       "    <tr>\n",
       "      <th>98</th>\n",
       "      <td>55.340018</td>\n",
       "      <td>64.931938</td>\n",
       "      <td>1.0</td>\n",
       "    </tr>\n",
       "    <tr>\n",
       "      <th>99</th>\n",
       "      <td>74.775893</td>\n",
       "      <td>89.529813</td>\n",
       "      <td>1.0</td>\n",
       "    </tr>\n",
       "  </tbody>\n",
       "</table>\n",
       "<p>100 rows × 3 columns</p>\n",
       "</div>"
      ],
      "text/plain": [
       "            0          1    2\n",
       "0   34.623660  78.024693  0.0\n",
       "1   30.286711  43.894998  0.0\n",
       "2   35.847409  72.902198  0.0\n",
       "3   60.182599  86.308552  1.0\n",
       "4   79.032736  75.344376  1.0\n",
       "..        ...        ...  ...\n",
       "95  83.489163  48.380286  1.0\n",
       "96  42.261701  87.103851  1.0\n",
       "97  99.315009  68.775409  1.0\n",
       "98  55.340018  64.931938  1.0\n",
       "99  74.775893  89.529813  1.0\n",
       "\n",
       "[100 rows x 3 columns]"
      ]
     },
     "execution_count": 2,
     "metadata": {
      "tags": []
     },
     "output_type": "execute_result"
    }
   ],
   "source": [
    "# Load data from csv file \"binary_data.csv\"\n",
    "# No headers\n",
    "data = pd.read_csv(\"binary_data.csv\",header=None)\n",
    "data"
   ]
  },
  {
   "cell_type": "markdown",
   "metadata": {
    "colab_type": "text",
    "id": "y_7BmaR_2uXX"
   },
   "source": [
    "## Handle missing values"
   ]
  },
  {
   "cell_type": "code",
   "execution_count": 0,
   "metadata": {
    "colab": {
     "base_uri": "https://localhost:8080/",
     "height": 419
    },
    "colab_type": "code",
    "id": "aIAGqqKGYzgL",
    "outputId": "1392b83f-2b30-48af-e402-07e999fa1e62"
   },
   "outputs": [
    {
     "data": {
      "text/html": [
       "<div>\n",
       "<style scoped>\n",
       "    .dataframe tbody tr th:only-of-type {\n",
       "        vertical-align: middle;\n",
       "    }\n",
       "\n",
       "    .dataframe tbody tr th {\n",
       "        vertical-align: top;\n",
       "    }\n",
       "\n",
       "    .dataframe thead th {\n",
       "        text-align: right;\n",
       "    }\n",
       "</style>\n",
       "<table border=\"1\" class=\"dataframe\">\n",
       "  <thead>\n",
       "    <tr style=\"text-align: right;\">\n",
       "      <th></th>\n",
       "      <th>0</th>\n",
       "      <th>1</th>\n",
       "      <th>2</th>\n",
       "    </tr>\n",
       "  </thead>\n",
       "  <tbody>\n",
       "    <tr>\n",
       "      <th>0</th>\n",
       "      <td>False</td>\n",
       "      <td>False</td>\n",
       "      <td>False</td>\n",
       "    </tr>\n",
       "    <tr>\n",
       "      <th>1</th>\n",
       "      <td>False</td>\n",
       "      <td>False</td>\n",
       "      <td>False</td>\n",
       "    </tr>\n",
       "    <tr>\n",
       "      <th>2</th>\n",
       "      <td>False</td>\n",
       "      <td>False</td>\n",
       "      <td>False</td>\n",
       "    </tr>\n",
       "    <tr>\n",
       "      <th>3</th>\n",
       "      <td>False</td>\n",
       "      <td>False</td>\n",
       "      <td>False</td>\n",
       "    </tr>\n",
       "    <tr>\n",
       "      <th>4</th>\n",
       "      <td>False</td>\n",
       "      <td>False</td>\n",
       "      <td>False</td>\n",
       "    </tr>\n",
       "    <tr>\n",
       "      <th>...</th>\n",
       "      <td>...</td>\n",
       "      <td>...</td>\n",
       "      <td>...</td>\n",
       "    </tr>\n",
       "    <tr>\n",
       "      <th>95</th>\n",
       "      <td>False</td>\n",
       "      <td>False</td>\n",
       "      <td>False</td>\n",
       "    </tr>\n",
       "    <tr>\n",
       "      <th>96</th>\n",
       "      <td>False</td>\n",
       "      <td>False</td>\n",
       "      <td>False</td>\n",
       "    </tr>\n",
       "    <tr>\n",
       "      <th>97</th>\n",
       "      <td>False</td>\n",
       "      <td>False</td>\n",
       "      <td>False</td>\n",
       "    </tr>\n",
       "    <tr>\n",
       "      <th>98</th>\n",
       "      <td>False</td>\n",
       "      <td>False</td>\n",
       "      <td>False</td>\n",
       "    </tr>\n",
       "    <tr>\n",
       "      <th>99</th>\n",
       "      <td>False</td>\n",
       "      <td>False</td>\n",
       "      <td>False</td>\n",
       "    </tr>\n",
       "  </tbody>\n",
       "</table>\n",
       "<p>100 rows × 3 columns</p>\n",
       "</div>"
      ],
      "text/plain": [
       "        0      1      2\n",
       "0   False  False  False\n",
       "1   False  False  False\n",
       "2   False  False  False\n",
       "3   False  False  False\n",
       "4   False  False  False\n",
       "..    ...    ...    ...\n",
       "95  False  False  False\n",
       "96  False  False  False\n",
       "97  False  False  False\n",
       "98  False  False  False\n",
       "99  False  False  False\n",
       "\n",
       "[100 rows x 3 columns]"
      ]
     },
     "execution_count": 3,
     "metadata": {
      "tags": []
     },
     "output_type": "execute_result"
    }
   ],
   "source": [
    "# isnull will create a new data frame\n",
    "# if the entry is nan, it would put True\n",
    "# otherwise it would put False\n",
    "data.isnull()"
   ]
  },
  {
   "cell_type": "code",
   "execution_count": 0,
   "metadata": {
    "colab": {
     "base_uri": "https://localhost:8080/",
     "height": 85
    },
    "colab_type": "code",
    "id": "ZBoSLhDuZFTt",
    "outputId": "17f39393-61f3-4ba4-f46a-e67afad3b419"
   },
   "outputs": [
    {
     "data": {
      "text/plain": [
       "0    1\n",
       "1    2\n",
       "2    3\n",
       "dtype: int64"
      ]
     },
     "execution_count": 4,
     "metadata": {
      "tags": []
     },
     "output_type": "execute_result"
    }
   ],
   "source": [
    "# It sums up the number of True on each column\n",
    "data.isnull().sum()"
   ]
  },
  {
   "cell_type": "code",
   "execution_count": 0,
   "metadata": {
    "colab": {
     "base_uri": "https://localhost:8080/",
     "height": 85
    },
    "colab_type": "code",
    "id": "WHEY2iWG2sfM",
    "outputId": "54e77944-9929-4b05-ee8e-a49df3cc6d2e"
   },
   "outputs": [
    {
     "data": {
      "text/plain": [
       "0    0\n",
       "1    0\n",
       "2    0\n",
       "dtype: int64"
      ]
     },
     "execution_count": 5,
     "metadata": {
      "tags": []
     },
     "output_type": "execute_result"
    }
   ],
   "source": [
    "# We want to drop those rows where some entries are nan\n",
    "data=data.dropna(axis=0)\n",
    "# Check if they are dropped\n",
    "data.isnull().sum()"
   ]
  },
  {
   "cell_type": "markdown",
   "metadata": {
    "colab_type": "text",
    "id": "PHgqz4j80jdS"
   },
   "source": [
    "## Data Visulaization"
   ]
  },
  {
   "cell_type": "code",
   "execution_count": 0,
   "metadata": {
    "colab": {
     "base_uri": "https://localhost:8080/",
     "height": 282
    },
    "colab_type": "code",
    "id": "bsmwybumxfkl",
    "outputId": "7cca1537-b728-4dd3-fad2-8defae41cf7f"
   },
   "outputs": [
    {
     "data": {
      "text/plain": [
       "<matplotlib.collections.PathCollection at 0x7f3781d519e8>"
      ]
     },
     "execution_count": 6,
     "metadata": {
      "tags": []
     },
     "output_type": "execute_result"
    },
    {
     "data": {
      "image/png": "[encoded data removed]",
      "text/plain": [
       "<Figure size 432x288 with 1 Axes>"
      ]
     },
     "metadata": {
      "tags": []
     },
     "output_type": "display_data"
    }
   ],
   "source": [
    "# The first two columns are X\n",
    "# The last column is y\n",
    "\n",
    "X = data.iloc[:, :2]\n",
    "y = data.iloc[:, -1]\n",
    "\n",
    "\n",
    "\n",
    "# ones: We want to get all the rows where y=1\n",
    "# zeros: We want to get all the rows where y=0\n",
    "ones = data.loc[y == 1]\n",
    "zeros = data.loc[y == 0]\n",
    "# Use different color to visualize scatter plot\n",
    "plt.scatter(ones[0], ones[1], s=20)\n",
    "plt.scatter(zeros[0], zeros[1], s=20)"
   ]
  },
  {
   "cell_type": "markdown",
   "metadata": {
    "colab_type": "text",
    "id": "2bv06KHu3hAS"
   },
   "source": [
    "## Train Validation spliting"
   ]
  },
  {
   "cell_type": "code",
   "execution_count": 0,
   "metadata": {
    "colab": {},
    "colab_type": "code",
    "id": "_Jdezu4Q3fof"
   },
   "outputs": [],
   "source": [
    "from sklearn.model_selection import train_test_split\n",
    "# split the train and validation set randomly in ratio 9:1\n",
    "train, validation = train_test_split(data,test_size=0.1)"
   ]
  },
  {
   "cell_type": "markdown",
   "metadata": {
    "colab_type": "text",
    "id": "O0CfsCae0rP8"
   },
   "source": [
    "##Data transformation"
   ]
  },
  {
   "cell_type": "code",
   "execution_count": 0,
   "metadata": {
    "colab": {},
    "colab_type": "code",
    "id": "e-Q79WCcyPlC"
   },
   "outputs": [],
   "source": [
    "def data_transform(data):\n",
    "  # Transform the data format to the format that model accepts\n",
    "  # data frame -> numpy array\n",
    "  X, y = data.iloc[:, :-1], data.iloc[:, -1]\n",
    "  X = np.array(X)\n",
    "  y = np.array(y).reshape(-1,1)\n",
    "  return X, y\n",
    "\n",
    "X_train, y_train = data_transform(train)\n",
    "X_val, y_val = data_transform(validation)"
   ]
  },
  {
   "cell_type": "markdown",
   "metadata": {
    "colab_type": "text",
    "id": "xIOp7zRNtNiP"
   },
   "source": [
    "##Gaussian noise"
   ]
  },
  {
   "cell_type": "code",
   "execution_count": 0,
   "metadata": {
    "colab": {},
    "colab_type": "code",
    "id": "7ubLzga2tMR4"
   },
   "outputs": [],
   "source": [
    "# initializa a Gaussian noise of mean 0, standard deviation 10\n",
    "noise = np.random.normal(loc=0,scale=10,size=X_train.shape)\n",
    "X_train_noisy = X_train + noise"
   ]
  },
  {
   "cell_type": "code",
   "execution_count": 0,
   "metadata": {
    "colab": {
     "base_uri": "https://localhost:8080/",
     "height": 282
    },
    "colab_type": "code",
    "id": "JQnzocCUtlks",
    "outputId": "a90eb2ab-47d5-4a9b-ca14-34feb7a697f4"
   },
   "outputs": [
    {
     "data": {
      "text/plain": [
       "<matplotlib.collections.PathCollection at 0x7f377f0b29b0>"
      ]
     },
     "execution_count": 10,
     "metadata": {
      "tags": []
     },
     "output_type": "execute_result"
    },
    {
     "data": {
      "image/png": "[encoded data removed]",
      "text/plain": [
       "<Figure size 432x288 with 1 Axes>"
      ]
     },
     "metadata": {
      "tags": []
     },
     "output_type": "display_data"
    }
   ],
   "source": [
    "plt.scatter(X_train[:, 0], X_train[:, 1], s=20, color='g')\n",
    "plt.scatter(X_train_noisy[:,0], X_train_noisy[:,1], s=20, color='b')\n"
   ]
  },
  {
   "cell_type": "markdown",
   "metadata": {
    "colab_type": "text",
    "id": "PZLKI3P2Z7Ho"
   },
   "source": [
    "# Model Architecture"
   ]
  },
  {
   "cell_type": "code",
   "execution_count": 0,
   "metadata": {
    "colab": {},
    "colab_type": "code",
    "id": "5JeJv4f0Z9o7"
   },
   "outputs": [],
   "source": [
    "class YourLogisticRegression:\n",
    "    def __init__(self, learning_rate=0.001, epochs=500000):\n",
    "      # initialize model parameters, hyperparameters and other variables\n",
    "      self.learning_rate = learning_rate\n",
    "      self.epochs = epochs\n",
    "      self.train_costs = []\n",
    "      self.val_costs = []\n",
    "    \n",
    "    def sigmoid(self, x):\n",
    "      # Implemente the function of sigmoid\n",
    "      return 1/(1+np.exp(-x))\n",
    "\n",
    "    def cost(self, h, y):\n",
    "      # Implemente the cost function\n",
    "      return (-1/y.shape[0])*np.sum(np.dot(y,np.log(h))+np.dot((1-y),np.log(1-h)))\n",
    "    \n",
    "    def fit(self, X, y, X_val, y_val):\n",
    "      # concat x_0=1 in X for the bias term\n",
    "      # X = [1, X]\n",
    "      X = np.concatenate((np.ones((X.shape[0], 1)), X), axis=1)\n",
    "      y = y.flatten()\n",
    "      X_val = np.concatenate((np.ones((X_val.shape[0], 1)), X_val), axis=1)\n",
    "      y_val = y_val.flatten()\n",
    "      \n",
    "      # weights including w,b, are initialized\n",
    "      # weights = [b, w1, w2]\n",
    "      self.weights = np.zeros(X.shape[1])\n",
    "      \n",
    "      cost_lst = []\n",
    "      for i in range(self.epochs):\n",
    "        y_pred = self.sigmoid(np.dot(X, self.weights))\n",
    "        # compute the gradient with respect to weights\n",
    "        gradient = np.dot(X.T,y_pred-y)\n",
    "        self.weights -= self.learning_rate * gradient/X.shape[0]\n",
    "        \n",
    "        cost = self.cost(y_pred, y)\n",
    "        cost_lst.append([i,cost])\n",
    "\n",
    "        if i % 100000 == 0:\n",
    "          # compute cost for validation set\n",
    "          y_val_pred = self.sigmoid(np.dot(X_val, self.weights))\n",
    "          val_cost = self.cost(y_val_pred, y_val)\n",
    "          self.val_costs.append([i, val_cost])\n",
    "\n",
    "          print('Epoch', i, ': train cost is', cost, ', validation cost is', val_cost)\n",
    "\n",
    "      self.train_costs = cost_lst\n",
    "      self.coef_ = self.weights[1:].reshape(1,-1)\n",
    "      self.intercept_ = self.weights[0].reshape(1,-1)\n",
    "\n",
    "    def predict(self, X):\n",
    "      X = np.concatenate((np.ones((X.shape[0], 1)), X), axis=1)\n",
    "      pred = self.sigmoid(np.dot(X, self.weights))\n",
    "      return pred.round()"
   ]
  },
  {
   "cell_type": "markdown",
   "metadata": {
    "colab_type": "text",
    "id": "rPl8U89q1ETd"
   },
   "source": [
    "#Model Training"
   ]
  },
  {
   "cell_type": "markdown",
   "metadata": {
    "colab_type": "text",
    "id": "uYrAOrd1YLTH"
   },
   "source": [
    "## Scikit learn model"
   ]
  },
  {
   "cell_type": "code",
   "execution_count": 0,
   "metadata": {
    "colab": {
     "base_uri": "https://localhost:8080/",
     "height": 156
    },
    "colab_type": "code",
    "id": "El0_wEmjwLGG",
    "outputId": "aa368386-5395-4ca9-a9b5-04c7658a4a0c"
   },
   "outputs": [
    {
     "name": "stderr",
     "output_type": "stream",
     "text": [
      "/usr/local/lib/python3.6/dist-packages/sklearn/utils/validation.py:760: DataConversionWarning: A column-vector y was passed when a 1d array was expected. Please change the shape of y to (n_samples, ), for example using ravel().\n",
      "  y = column_or_1d(y, warn=True)\n"
     ]
    },
    {
     "data": {
      "text/plain": [
       "LogisticRegression(C=1.0, class_weight=None, dual=False, fit_intercept=True,\n",
       "                   intercept_scaling=1, l1_ratio=None, max_iter=100,\n",
       "                   multi_class='auto', n_jobs=None, penalty='l2',\n",
       "                   random_state=None, solver='lbfgs', tol=0.0001, verbose=0,\n",
       "                   warm_start=False)"
      ]
     },
     "execution_count": 12,
     "metadata": {
      "tags": []
     },
     "output_type": "execute_result"
    }
   ],
   "source": [
    "# Using scikit-learn to train logistic regression\n",
    "model = LogisticRegression()\n",
    "model.fit(X_train, y_train)"
   ]
  },
  {
   "cell_type": "code",
   "execution_count": 0,
   "metadata": {
    "colab": {
     "base_uri": "https://localhost:8080/",
     "height": 34
    },
    "colab_type": "code",
    "id": "w7T8oaKk1IV4",
    "outputId": "a9dc9140-1216-4144-f8bf-fedd67ae1652"
   },
   "outputs": [
    {
     "name": "stdout",
     "output_type": "stream",
     "text": [
      "The accuracy on training set is 0.9047619047619048\n"
     ]
    }
   ],
   "source": [
    "# Print the accuracy of the model\n",
    "y_pred = model.predict(X_train)\n",
    "accuracy = accuracy_score(y_train.flatten(), y_pred)\n",
    "print('The accuracy on training set is {}'.format(accuracy))\n"
   ]
  },
  {
   "cell_type": "code",
   "execution_count": 0,
   "metadata": {
    "colab": {
     "base_uri": "https://localhost:8080/",
     "height": 282
    },
    "colab_type": "code",
    "id": "98YAPaO1MKW-",
    "outputId": "577126f9-fb33-4413-f2ca-b0cae180899a"
   },
   "outputs": [
    {
     "data": {
      "text/plain": [
       "[<matplotlib.lines.Line2D at 0x7f377f065e10>]"
      ]
     },
     "execution_count": 14,
     "metadata": {
      "tags": []
     },
     "output_type": "execute_result"
    },
    {
     "data": {
      "image/png": "[encoded data removed]",
      "text/plain": [
       "<Figure size 432x288 with 1 Axes>"
      ]
     },
     "metadata": {
      "tags": []
     },
     "output_type": "display_data"
    }
   ],
   "source": [
    "# Decision boundary\n",
    "# y = w1 x1 + w2 x2 + b\n",
    "# coef_ = [[w1, w2]]\n",
    "# intercept_ = [b]\n",
    "plt.scatter(ones.iloc[:, 0], ones.iloc[:, 1], s=20)\n",
    "plt.scatter(zeros.iloc[:, 0], zeros.iloc[:, 1], s=20)\n",
    "xx = np.linspace(0,100)\n",
    "yy = (-model.coef_[0][0]/model.coef_[0][1]) * xx - model.intercept_[0] / model.coef_[0][1]\n",
    "plt.plot(xx, yy, color='g')"
   ]
  },
  {
   "cell_type": "markdown",
   "metadata": {
    "colab_type": "text",
    "id": "zXUlRt9QYPgq"
   },
   "source": [
    "## logistic regression model"
   ]
  },
  {
   "cell_type": "code",
   "execution_count": 0,
   "metadata": {
    "colab": {
     "base_uri": "https://localhost:8080/",
     "height": 102
    },
    "colab_type": "code",
    "id": "trQb05KsYU3L",
    "outputId": "09724838-4f31-4fd9-9869-683e96dcfc31"
   },
   "outputs": [
    {
     "name": "stdout",
     "output_type": "stream",
     "text": [
      "Epoch 0 : train cost is 0.6931471805599453 , validation cost is 0.950901742828576\n",
      "Epoch 100000 : train cost is 0.3796757244800018 , validation cost is 0.4974227084112583\n",
      "Epoch 200000 : train cost is 0.3113128622548553 , validation cost is 0.4235489911322713\n",
      "Epoch 300000 : train cost is 0.2791683271354303 , validation cost is 0.3891830883504763\n",
      "Epoch 400000 : train cost is 0.2603285243198026 , validation cost is 0.3700320694288297\n"
     ]
    }
   ],
   "source": [
    "# Train your own model\n",
    "your_model = YourLogisticRegression()\n",
    "your_model.fit(X_train, y_train, X_val, y_val)"
   ]
  },
  {
   "cell_type": "code",
   "execution_count": 0,
   "metadata": {
    "colab": {
     "base_uri": "https://localhost:8080/",
     "height": 34
    },
    "colab_type": "code",
    "id": "sj_j2d9aaKjN",
    "outputId": "58cfd2c8-7353-4bcf-e456-f3e646fe2f7a"
   },
   "outputs": [
    {
     "name": "stdout",
     "output_type": "stream",
     "text": [
      "The accuracy on training set is 0.9166666666666666\n"
     ]
    }
   ],
   "source": [
    "y_pred = your_model.predict(X_train)\n",
    "accuracy = accuracy_score(y_train.flatten(), y_pred)\n",
    "print('The accuracy on training set is {}'.format(accuracy))"
   ]
  },
  {
   "cell_type": "code",
   "execution_count": 0,
   "metadata": {
    "colab": {
     "base_uri": "https://localhost:8080/",
     "height": 282
    },
    "colab_type": "code",
    "id": "ZHyGRcQFaNpA",
    "outputId": "dc91e990-7610-4947-e87d-2601ef8c9769"
   },
   "outputs": [
    {
     "data": {
      "text/plain": [
       "[<matplotlib.lines.Line2D at 0x7f377efe0b70>]"
      ]
     },
     "execution_count": 17,
     "metadata": {
      "tags": []
     },
     "output_type": "execute_result"
    },
    {
     "data": {
      "image/png": "[encoded data removed]",
      "text/plain": [
       "<Figure size 432x288 with 1 Axes>"
      ]
     },
     "metadata": {
      "tags": []
     },
     "output_type": "display_data"
    }
   ],
   "source": [
    "# Decision boundary\n",
    "# Copy your implementation above\n",
    "plt.scatter(ones.iloc[:, 0], ones.iloc[:, 1], s=20)\n",
    "plt.scatter(zeros.iloc[:, 0], zeros.iloc[:, 1], s=20)\n",
    "xx = np.linspace(0,110)\n",
    "yy = (-your_model.coef_[0][0]/your_model.coef_[0][1]) * xx - your_model.intercept_[0] / your_model.coef_[0][1]\n",
    "plt.plot(xx, yy, color='g')"
   ]
  },
  {
   "cell_type": "markdown",
   "metadata": {
    "colab_type": "text",
    "id": "2Fo2PYwdvlpw"
   },
   "source": [
    "## logistic regression model with gaussian noise"
   ]
  },
  {
   "cell_type": "code",
   "execution_count": 0,
   "metadata": {
    "colab": {
     "base_uri": "https://localhost:8080/",
     "height": 119
    },
    "colab_type": "code",
    "id": "PwxxrSgavs6F",
    "outputId": "b2731be0-24d3-4af2-e7d2-a3ec0050fbb1"
   },
   "outputs": [
    {
     "name": "stdout",
     "output_type": "stream",
     "text": [
      "Epoch 0 : train cost is 0.6931471805599453 , validation cost is 0.9570918574363241\n",
      "Epoch 100000 : train cost is 0.42890584444471913 , validation cost is 0.4995583182046053\n",
      "Epoch 200000 : train cost is 0.3877873875983135 , validation cost is 0.42684244620875084\n",
      "Epoch 300000 : train cost is 0.372444528684041 , validation cost is 0.39171381485553125\n",
      "Epoch 400000 : train cost is 0.3652145944338755 , validation cost is 0.3712617764901184\n",
      "The accuracy on training set is 0.9047619047619048\n"
     ]
    }
   ],
   "source": [
    "# Train your own model with Gaussian noise\n",
    "your_model_noisy = YourLogisticRegression()\n",
    "your_model_noisy.fit(X_train_noisy, y_train, X_val, y_val)\n",
    "y_pred = your_model_noisy.predict(X_train)\n",
    "accuracy = accuracy_score(y_train.flatten(), y_pred)\n",
    "print('The accuracy on training set is {}'.format(accuracy))"
   ]
  },
  {
   "cell_type": "code",
   "execution_count": 0,
   "metadata": {
    "colab": {
     "base_uri": "https://localhost:8080/",
     "height": 282
    },
    "colab_type": "code",
    "id": "RMNbk2eUJ6UW",
    "outputId": "f207afff-9855-450a-aa31-4e183c4922a0"
   },
   "outputs": [
    {
     "data": {
      "text/plain": [
       "[<matplotlib.lines.Line2D at 0x7f377f06c6d8>]"
      ]
     },
     "execution_count": 19,
     "metadata": {
      "tags": []
     },
     "output_type": "execute_result"
    },
    {
     "data": {
      "image/png": "[encoded data removed]",
      "text/plain": [
       "<Figure size 432x288 with 1 Axes>"
      ]
     },
     "metadata": {
      "tags": []
     },
     "output_type": "display_data"
    }
   ],
   "source": [
    "plt.scatter(ones.iloc[:, 0], ones.iloc[:, 1], s=20)\n",
    "plt.scatter(zeros.iloc[:, 0], zeros.iloc[:, 1], s=20)\n",
    "xx = np.linspace(0,110)\n",
    "yy = (-your_model_noisy.coef_[0][0]/your_model_noisy.coef_[0][1]) * xx - your_model_noisy.intercept_[0] / your_model_noisy.coef_[0][1]\n",
    "plt.plot(xx, yy, color='g')"
   ]
  },
  {
   "cell_type": "markdown",
   "metadata": {
    "colab_type": "text",
    "id": "CuqndURe1JwV"
   },
   "source": [
    "#Model evaluation"
   ]
  },
  {
   "cell_type": "markdown",
   "metadata": {
    "colab_type": "text",
    "id": "Jr-WWw28hkJK"
   },
   "source": [
    "## Train and Validation cost"
   ]
  },
  {
   "cell_type": "code",
   "execution_count": 0,
   "metadata": {
    "colab": {
     "base_uri": "https://localhost:8080/",
     "height": 301
    },
    "colab_type": "code",
    "id": "FZUjta4p1K75",
    "outputId": "323eb7e4-ea97-4f90-9fbe-555d7d81fceb"
   },
   "outputs": [
    {
     "data": {
      "image/png": "[encoded data removed]",
      "text/plain": [
       "<Figure size 432x288 with 1 Axes>"
      ]
     },
     "metadata": {
      "tags": []
     },
     "output_type": "display_data"
    }
   ],
   "source": [
    "# Visualize the cost of training set and testing set\n",
    "# Use the model without Gaussian noise\n",
    "plt.plot(np.array(your_model.train_costs)[:,0],np.array(your_model.train_costs)[:,1], color='b')\n",
    "plt.plot(np.array(your_model.val_costs)[:,0],np.array(your_model.val_costs)[:,1], color='r')\n",
    "plt.title('Train Cost Curve', fontsize=16)\n",
    "plt.xlabel('epoch', fontsize=14)\n",
    "plt.ylabel('cost', fontsize=14)\n",
    "\n",
    "plt.show()"
   ]
  },
  {
   "cell_type": "code",
   "execution_count": 0,
   "metadata": {
    "colab": {
     "base_uri": "https://localhost:8080/",
     "height": 301
    },
    "colab_type": "code",
    "id": "HUJVg48DjHA-",
    "outputId": "c4bc54de-e27d-4899-fa8a-164fa57c2cbc"
   },
   "outputs": [
    {
     "data": {
      "image/png": "[encoded data removed]",
      "text/plain": [
       "<Figure size 432x288 with 1 Axes>"
      ]
     },
     "metadata": {
      "tags": []
     },
     "output_type": "display_data"
    }
   ],
   "source": [
    "# Visualize the cost of training set and testing set\n",
    "# Use the model with Gaussian noise\n",
    "plt.plot(np.array(your_model_noisy.train_costs)[:,0],np.array(your_model_noisy.train_costs)[:,1], color='b')\n",
    "plt.plot(np.array(your_model_noisy.val_costs)[:,0],np.array(your_model_noisy.val_costs)[:,1], color='r')\n",
    "plt.title('Train Cost Curve', fontsize=16)\n",
    "plt.xlabel('epoch', fontsize=14)\n",
    "plt.ylabel('cost', fontsize=14)\n",
    "\n",
    "plt.show()"
   ]
  }
 ],
 "metadata": {
  "colab": {
   "collapsed_sections": [],
   "name": "Copy of Logistic-regression-medium.ipynb",
   "provenance": []
  },
  "kernelspec": {
   "display_name": "Python 3",
   "language": "python",
   "name": "python3"
  },
  "language_info": {
   "codemirror_mode": {
    "name": "ipython",
    "version": 3
   },
   "file_extension": ".py",
   "mimetype": "text/x-python",
   "name": "python",
   "nbconvert_exporter": "python",
   "pygments_lexer": "ipython3",
   "version": "3.7.6"
  }
 },
 "nbformat": 4,
 "nbformat_minor": 1
}

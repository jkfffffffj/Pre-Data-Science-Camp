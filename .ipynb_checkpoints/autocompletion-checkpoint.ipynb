{
 "cells": [
  {
   "cell_type": "markdown",
   "metadata": {
    "colab_type": "text",
    "id": "goZynvEwDbVO"
   },
   "source": [
    "# Useful commands"
   ]
  },
  {
   "cell_type": "code",
   "execution_count": 0,
   "metadata": {
    "colab": {
     "base_uri": "https://localhost:8080/",
     "height": 54
    },
    "colab_type": "code",
    "id": "DHCkNtHJDarb",
    "outputId": "00106c52-3f24-4ed5-e72d-202a69b5d224"
   },
   "outputs": [
    {
     "data": {
      "text/plain": [
       "True"
      ]
     },
     "execution_count": 1,
     "metadata": {
      "tags": []
     },
     "output_type": "execute_result"
    }
   ],
   "source": [
    "# Check whether your GPU is available\n",
    "import torch\n",
    "torch.cuda.is_available()"
   ]
  },
  {
   "cell_type": "code",
   "execution_count": 0,
   "metadata": {
    "colab": {
     "base_uri": "https://localhost:8080/",
     "height": 326
    },
    "colab_type": "code",
    "id": "WECXNLl86qcc",
    "outputId": "93a0ff35-c6f2-4a32-8cb7-e7accafb0010"
   },
   "outputs": [
    {
     "name": "stdout",
     "output_type": "stream",
     "text": [
      "Sun May  3 01:43:29 2020       \n",
      "+-----------------------------------------------------------------------------+\n",
      "| NVIDIA-SMI 440.64.00    Driver Version: 418.67       CUDA Version: 10.1     |\n",
      "|-------------------------------+----------------------+----------------------+\n",
      "| GPU  Name        Persistence-M| Bus-Id        Disp.A | Volatile Uncorr. ECC |\n",
      "| Fan  Temp  Perf  Pwr:Usage/Cap|         Memory-Usage | GPU-Util  Compute M. |\n",
      "|===============================+======================+======================|\n",
      "|   0  Tesla P4            Off  | 00000000:00:04.0 Off |                    0 |\n",
      "| N/A   38C    P8     7W /  75W |     10MiB /  7611MiB |      0%      Default |\n",
      "+-------------------------------+----------------------+----------------------+\n",
      "                                                                               \n",
      "+-----------------------------------------------------------------------------+\n",
      "| Processes:                                                       GPU Memory |\n",
      "|  GPU       PID   Type   Process name                             Usage      |\n",
      "|=============================================================================|\n",
      "|  No running processes found                                                 |\n",
      "+-----------------------------------------------------------------------------+\n"
     ]
    }
   ],
   "source": [
    "# Check how much memory is available\n",
    "!nvidia-smi "
   ]
  },
  {
   "cell_type": "code",
   "execution_count": 0,
   "metadata": {
    "colab": {
     "base_uri": "https://localhost:8080/",
     "height": 207
    },
    "colab_type": "code",
    "id": "U1YWIkMr6tMD",
    "outputId": "5d60683a-96d3-4e50-9ff6-2f5000ee6228"
   },
   "outputs": [
    {
     "name": "stdout",
     "output_type": "stream",
     "text": [
      "Filesystem      Size  Used Avail Use% Mounted on\n",
      "overlay          69G   32G   34G  49% /\n",
      "tmpfs            64M     0   64M   0% /dev\n",
      "tmpfs           6.4G     0  6.4G   0% /sys/fs/cgroup\n",
      "shm             5.8G     0  5.8G   0% /dev/shm\n",
      "/dev/sda1        75G   33G   43G  44% /opt/bin\n",
      "tmpfs           6.4G   16K  6.4G   1% /var/colab\n",
      "tmpfs           6.4G     0  6.4G   0% /proc/acpi\n",
      "tmpfs           6.4G     0  6.4G   0% /proc/scsi\n",
      "tmpfs           6.4G     0  6.4G   0% /sys/firmware\n"
     ]
    }
   ],
   "source": [
    "# Check how much storage is left on your disk\n",
    "!df -h "
   ]
  },
  {
   "cell_type": "markdown",
   "metadata": {
    "colab_type": "text",
    "id": "vGIN3qUXDjSB"
   },
   "source": [
    "# Imports"
   ]
  },
  {
   "cell_type": "code",
   "execution_count": 0,
   "metadata": {
    "colab": {},
    "colab_type": "code",
    "id": "WOXdP8mn7Y9L"
   },
   "outputs": [],
   "source": [
    "%matplotlib inline\n",
    "import matplotlib.pyplot as plt\n",
    "import numpy as np\n",
    "import torch\n",
    "from torch import nn"
   ]
  },
  {
   "cell_type": "markdown",
   "metadata": {
    "colab_type": "text",
    "id": "fBry-HW-Dmai"
   },
   "source": [
    "# Data preprocessing"
   ]
  },
  {
   "cell_type": "markdown",
   "metadata": {
    "colab_type": "text",
    "id": "_zXTO0AExN1h"
   },
   "source": [
    "### Data ingestion"
   ]
  },
  {
   "cell_type": "code",
   "execution_count": 0,
   "metadata": {
    "colab": {
     "base_uri": "https://localhost:8080/",
     "height": 54
    },
    "colab_type": "code",
    "id": "AhDEi7-D7hi-",
    "outputId": "77936019-fe84-4004-9243-9f00a84dba59"
   },
   "outputs": [
    {
     "name": "stdout",
     "output_type": "stream",
     "text": [
      "('O', '|', 'S', ')', 'w', 'R', 'B', 'P', 'I', 'o', '2', 'h', '\\t', 'b', ';', '@', '_', ',', '8', '%', 't', 'e', '<', '\\n', 'k', 'E', '7', 'Z', 'r', '^', 'F', 'a', '}', 'i', '=', '+', 'z', 's', 'D', '&', 'q', '5', 'Q', '{', 'f', '1', '/', 'L', ']', 'J', 'v', '0', 'u', '3', 'W', 'y', '?', '(', 'U', 'T', 'x', 'A', '4', '\"', ':', 'G', '6', '!', 'g', '$', ' ', 'c', 'j', 'p', 'X', '[', '`', 'H', \"'\", '~', 'n', '>', 'l', '9', 'C', 'K', '-', 'd', '*', 'V', 'm', 'Y', '.', 'N', 'M', '\\\\')\n"
     ]
    }
   ],
   "source": [
    "# Data loading\n",
    "with open('autocomplete.txt', 'r') as f:\n",
    "    data = f.read()\n",
    "\n",
    "# A tuple of distinct characters\n",
    "chars = tuple(set(data))\n",
    "print(chars)"
   ]
  },
  {
   "cell_type": "markdown",
   "metadata": {
    "colab_type": "text",
    "id": "5uyRAlOixWg9"
   },
   "source": [
    "### Data translator"
   ]
  },
  {
   "cell_type": "code",
   "execution_count": 0,
   "metadata": {
    "colab": {
     "base_uri": "https://localhost:8080/",
     "height": 71
    },
    "colab_type": "code",
    "id": "M9P38IrIxich",
    "outputId": "46a0f7c0-b897-4642-fe15-0fe33339f0e1"
   },
   "outputs": [
    {
     "name": "stdout",
     "output_type": "stream",
     "text": [
      "{0: 'O', 1: '|', 2: 'S', 3: ')', 4: 'w', 5: 'R', 6: 'B', 7: 'P', 8: 'I', 9: 'o', 10: '2', 11: 'h', 12: '\\t', 13: 'b', 14: ';', 15: '@', 16: '_', 17: ',', 18: '8', 19: '%', 20: 't', 21: 'e', 22: '<', 23: '\\n', 24: 'k', 25: 'E', 26: '7', 27: 'Z', 28: 'r', 29: '^', 30: 'F', 31: 'a', 32: '}', 33: 'i', 34: '=', 35: '+', 36: 'z', 37: 's', 38: 'D', 39: '&', 40: 'q', 41: '5', 42: 'Q', 43: '{', 44: 'f', 45: '1', 46: '/', 47: 'L', 48: ']', 49: 'J', 50: 'v', 51: '0', 52: 'u', 53: '3', 54: 'W', 55: 'y', 56: '?', 57: '(', 58: 'U', 59: 'T', 60: 'x', 61: 'A', 62: '4', 63: '\"', 64: ':', 65: 'G', 66: '6', 67: '!', 68: 'g', 69: '$', 70: ' ', 71: 'c', 72: 'j', 73: 'p', 74: 'X', 75: '[', 76: '`', 77: 'H', 78: \"'\", 79: '~', 80: 'n', 81: '>', 82: 'l', 83: '9', 84: 'C', 85: 'K', 86: '-', 87: 'd', 88: '*', 89: 'V', 90: 'm', 91: 'Y', 92: '.', 93: 'N', 94: 'M', 95: '\\\\'}\n",
      "{'O': 0, '|': 1, 'S': 2, ')': 3, 'w': 4, 'R': 5, 'B': 6, 'P': 7, 'I': 8, 'o': 9, '2': 10, 'h': 11, '\\t': 12, 'b': 13, ';': 14, '@': 15, '_': 16, ',': 17, '8': 18, '%': 19, 't': 20, 'e': 21, '<': 22, '\\n': 23, 'k': 24, 'E': 25, '7': 26, 'Z': 27, 'r': 28, '^': 29, 'F': 30, 'a': 31, '}': 32, 'i': 33, '=': 34, '+': 35, 'z': 36, 's': 37, 'D': 38, '&': 39, 'q': 40, '5': 41, 'Q': 42, '{': 43, 'f': 44, '1': 45, '/': 46, 'L': 47, ']': 48, 'J': 49, 'v': 50, '0': 51, 'u': 52, '3': 53, 'W': 54, 'y': 55, '?': 56, '(': 57, 'U': 58, 'T': 59, 'x': 60, 'A': 61, '4': 62, '\"': 63, ':': 64, 'G': 65, '6': 66, '!': 67, 'g': 68, '$': 69, ' ': 70, 'c': 71, 'j': 72, 'p': 73, 'X': 74, '[': 75, '`': 76, 'H': 77, \"'\": 78, '~': 79, 'n': 80, '>': 81, 'l': 82, '9': 83, 'C': 84, 'K': 85, '-': 86, 'd': 87, '*': 88, 'V': 89, 'm': 90, 'Y': 91, '.': 92, 'N': 93, 'M': 94, '\\\\': 95}\n"
     ]
    }
   ],
   "source": [
    "# Hash tables for encoding\n",
    "# int2char: integer -> character\n",
    "# char2int: character -> integer\n",
    "\n",
    "int2char = dict(enumerate(chars))\n",
    "print(int2char)\n",
    "char2int = {v: k for k, v in int2char.items()}\n",
    "print(char2int)"
   ]
  },
  {
   "cell_type": "markdown",
   "metadata": {
    "colab_type": "text",
    "id": "gX0aKILex0rC"
   },
   "source": [
    "### Data loader"
   ]
  },
  {
   "cell_type": "code",
   "execution_count": 0,
   "metadata": {
    "colab": {},
    "colab_type": "code",
    "id": "802M_EeI2Rq8"
   },
   "outputs": [],
   "source": [
    "# Load data batch by batch\n",
    "def data_loader(data, num_seqs, seq_length):\n",
    "    data = np.array(list(data))\n",
    "    batch_size = num_seqs * seq_length\n",
    "    num_batches = len(data) // batch_size\n",
    "    data = data[:num_batches * batch_size]\n",
    "    data = data.reshape((num_seqs, -1))\n",
    "    \n",
    "    for n in range(0, data.shape[1] - seq_length, seq_length):\n",
    "        input_seqs = data[:, n:n + seq_length]\n",
    "        labels = np.zeros_like(input_seqs)\n",
    "        labels[:, :-1], labels[:, -1] = input_seqs[:, 1:], data[:, n + seq_length]\n",
    "        yield input_seqs, labels\n",
    "\n"
   ]
  },
  {
   "cell_type": "markdown",
   "metadata": {
    "colab_type": "text",
    "id": "FP94j4Y5DpdQ"
   },
   "source": [
    "# Model architecture"
   ]
  },
  {
   "cell_type": "markdown",
   "metadata": {
    "colab_type": "text",
    "id": "QVerM_3Zzy0l"
   },
   "source": [
    "### Model hyperparameters"
   ]
  },
  {
   "cell_type": "code",
   "execution_count": 0,
   "metadata": {
    "colab": {},
    "colab_type": "code",
    "id": "h8wCLcE2zyNq"
   },
   "outputs": [],
   "source": [
    "# Initialize the model hyperparameters\n",
    "num_epochs=20\n",
    "num_seqs=1024 # 1024 samples in one batch\n",
    "seq_length=6 # input sequences have 6 chars\n",
    "num_chars = len(chars) # number of distinct characters\n",
    "\n",
    "lr=0.001 # learning rate\n",
    "device = torch.device(\"cuda:0\") # Use GPU"
   ]
  },
  {
   "cell_type": "markdown",
   "metadata": {
    "colab_type": "text",
    "id": "vJMF_CFQz3yk"
   },
   "source": [
    "### Helper functions\n"
   ]
  },
  {
   "cell_type": "code",
   "execution_count": 0,
   "metadata": {
    "colab": {},
    "colab_type": "code",
    "id": "FHGQFDItHIxs"
   },
   "outputs": [],
   "source": [
    "# Convert integer into one hot encoding\n",
    "# 0 -> [1, 0, 0 ...]\n",
    "# 1 -> [0, 1, 0 ...]\n",
    "def one_hot_encoding(input_seqs, num_chars):\n",
    "    one_hot = np.zeros((input_seqs.shape[0] * input_seqs.shape[1], num_chars), dtype=np.float32)\n",
    "    # Fill in ones corresponding to the index\n",
    "\n",
    "    one_hot=np.eye(num_chars,dtype=np.float32)[input_seqs.reshape(-1)]\n",
    "\n",
    "    # Reshape it to (num_seqs, sequence_length, num_chars)\n",
    "    one_hot = one_hot.reshape((input_seqs.shape[0], input_seqs.shape[1], num_chars))\n",
    "\n",
    "    return one_hot\n",
    "\n",
    "# save the model parameters and hyparameters into a file\n",
    "def save_checkpoint(net, optimizer, filename, train_history={}):\n",
    "    checkpoint = {'n_hidden': net.n_hidden,\n",
    "                  'n_layers': net.n_layers,\n",
    "                  'state_dict': net.state_dict(),\n",
    "                  'optimizer': optimizer.state_dict(),\n",
    "                  'tokens': net.chars,\n",
    "                  'train_history': train_history}\n",
    "\n",
    "    with open(filename, 'wb') as f:\n",
    "        torch.save(checkpoint, f)\n",
    "\n",
    "# load the model parameters and hyparameters from a file\n",
    "def load_checkpoint(filename):\n",
    "    with open(filename, 'rb') as f:\n",
    "        checkpoint = torch.load(f, map_location='cpu')\n",
    "\n",
    "    net = CharRNN(checkpoint['tokens'], n_hidden=checkpoint['n_hidden'], n_layers=checkpoint['n_layers'])\n",
    "    net.load_state_dict(checkpoint['state_dict'])\n",
    "\n",
    "    return net"
   ]
  },
  {
   "cell_type": "code",
   "execution_count": 0,
   "metadata": {
    "colab": {
     "base_uri": "https://localhost:8080/",
     "height": 173
    },
    "colab_type": "code",
    "id": "Xovwx16be2Ce",
    "outputId": "624b130d-9386-4fe7-b0b8-e762c619faa9"
   },
   "outputs": [
    {
     "name": "stdout",
     "output_type": "stream",
     "text": [
      "[[[1. 0. 0. 0. 0. 0. 0. 0.]\n",
      "  [0. 1. 0. 0. 0. 0. 0. 0.]\n",
      "  [0. 0. 0. 0. 0. 1. 0. 0.]]\n",
      "\n",
      " [[0. 0. 0. 1. 0. 0. 0. 0.]\n",
      "  [0. 0. 0. 0. 0. 0. 1. 0.]\n",
      "  [0. 0. 0. 0. 0. 0. 0. 1.]]]\n",
      "(2, 3, 8)\n"
     ]
    }
   ],
   "source": [
    "# You can test whether your one_hot_encoding is correct or not\n",
    "one_hot = one_hot_encoding(np.array([[0, 1,5],[3, 6, 7]]), 8)\n",
    "print(one_hot)\n",
    "print(one_hot.shape)"
   ]
  },
  {
   "cell_type": "markdown",
   "metadata": {
    "colab_type": "text",
    "id": "pNd2cZClz8qM"
   },
   "source": [
    "### Architecture"
   ]
  },
  {
   "cell_type": "code",
   "execution_count": 0,
   "metadata": {
    "colab": {},
    "colab_type": "code",
    "id": "f2f0O7NLEGxJ"
   },
   "outputs": [],
   "source": [
    "class CharRNN(nn.Module):\n",
    "    def __init__(self, tokens, n_hidden=256, n_layers=3, drop_prob=0.5):\n",
    "        # Inheritance from Pytorch\n",
    "        super().__init__()\n",
    "        # Initialize the variables\n",
    "        self.drop_prob = drop_prob\n",
    "        self.n_layers = n_layers\n",
    "        self.n_hidden = n_hidden\n",
    "        self.chars = tokens\n",
    "\n",
    "        # Define the functions for the architecture\n",
    "        \n",
    "        # LSTM\n",
    "        # Input has num_chars features\n",
    "        # Hidden state has n_hidden features\n",
    "        # We want to stack n_layers LSTM together\n",
    "        # We want to use dropout in LSTM \n",
    "        self.lstm = nn.LSTM(num_chars, n_hidden, n_layers, dropout=drop_prob, batch_first=True)\n",
    "        \n",
    "        # Dropout\n",
    "        # dropout rate is drop_prob\n",
    "        self.dropout = nn.Dropout(drop_prob)\n",
    "        \n",
    "        # Linear\n",
    "        # Input has n_hidden features\n",
    "        # Output has num_chars features\n",
    "        self.fc = nn.Linear(n_hidden,num_chars)\n",
    "\n",
    "    def forward(self, input_seqs, hidden):\n",
    "        # pass through lstm\n",
    "        all_outputs, hidden = self.lstm(input_seqs, hidden)\n",
    "\n",
    "        # pass through dropout\n",
    "        all_outputs = self.dropout(all_outputs)\n",
    "\n",
    "        # pass through fc layer\n",
    "        all_outputs = self.fc(all_outputs)\n",
    "\n",
    "        # return output and hidden tensor\n",
    "        return all_outputs, hidden\n",
    "    \n"
   ]
  },
  {
   "cell_type": "markdown",
   "metadata": {
    "colab_type": "text",
    "id": "OhpRd8mLEPhW"
   },
   "source": [
    "# Model training"
   ]
  },
  {
   "cell_type": "markdown",
   "metadata": {
    "colab_type": "text",
    "id": "mrpDIvXI51vj"
   },
   "source": [
    "### Tokenization"
   ]
  },
  {
   "cell_type": "code",
   "execution_count": 0,
   "metadata": {
    "colab": {
     "base_uri": "https://localhost:8080/",
     "height": 54
    },
    "colab_type": "code",
    "id": "T8ODy4-b55sx",
    "outputId": "f344d58c-4170-4059-cb99-500dc286e030"
   },
   "outputs": [
    {
     "name": "stdout",
     "output_type": "stream",
     "text": [
      "[44 28  9 ...  0 30 23]\n"
     ]
    }
   ],
   "source": [
    "# Translate character to integer\n",
    "data=list(data)\n",
    "data = np.array([char2int[k] for k in data])\n",
    "print(data)"
   ]
  },
  {
   "cell_type": "markdown",
   "metadata": {
    "colab_type": "text",
    "id": "ojBhkT9g5ri5"
   },
   "source": [
    "### Training testing split"
   ]
  },
  {
   "cell_type": "code",
   "execution_count": 0,
   "metadata": {
    "colab": {},
    "colab_type": "code",
    "id": "vLXTXDwD5rE1"
   },
   "outputs": [],
   "source": [
    "# Split training and validation data, 9:1\n",
    "\n",
    "train_len = round(data.size*0.9)\n",
    "data, val_data = data[:train_len], data[train_len:]"
   ]
  },
  {
   "cell_type": "markdown",
   "metadata": {
    "colab_type": "text",
    "id": "fTUdiqgR5sfU"
   },
   "source": [
    "### Training pipeline"
   ]
  },
  {
   "cell_type": "code",
   "execution_count": 0,
   "metadata": {
    "colab": {
     "base_uri": "https://localhost:8080/",
     "height": 357
    },
    "colab_type": "code",
    "id": "TBphYI_mEQ2j",
    "outputId": "9cc230ba-1691-45b1-9cfd-808233ccb21a"
   },
   "outputs": [
    {
     "name": "stdout",
     "output_type": "stream",
     "text": [
      "Epoch  0 : validation loss  1.3435761847279288\n",
      "Epoch  1 : validation loss  1.2052269594913179\n",
      "Epoch  2 : validation loss  1.1408000473271718\n",
      "Epoch  3 : validation loss  1.1061818531968377\n",
      "Epoch  4 : validation loss  1.0813539305871183\n",
      "Epoch  5 : validation loss  1.0643606465309858\n",
      "Epoch  6 : validation loss  1.04674122702669\n",
      "Epoch  7 : validation loss  1.0350375031544403\n",
      "Epoch  8 : validation loss  1.0267197701402686\n",
      "Epoch  9 : validation loss  1.02117725901983\n",
      "Epoch  10 : validation loss  1.006000535731966\n",
      "Epoch  11 : validation loss  0.9993941045620225\n",
      "Epoch  12 : validation loss  0.9930570704693144\n",
      "Epoch  13 : validation loss  0.9849336453798142\n",
      "Epoch  14 : validation loss  0.9831063005734574\n",
      "Epoch  15 : validation loss  0.9761305691843684\n",
      "Epoch  16 : validation loss  0.9751577211374586\n",
      "Epoch  17 : validation loss  0.9685529434884136\n",
      "Epoch  18 : validation loss  0.9633801802992821\n",
      "Epoch  19 : validation loss  0.9581689147109335\n"
     ]
    }
   ],
   "source": [
    "# Initialize the model\n",
    "net = CharRNN(chars, n_hidden=256, n_layers=3)\n",
    "net.train() # Training mode\n",
    "net.to(device) # Use GPU\n",
    "\n",
    "# Loss and optimizer\n",
    "optimizer = torch.optim.Adam(net.parameters(), lr=lr) \n",
    "loss_function = torch.nn.CrossEntropyLoss()\n",
    "\n",
    "# Train the model\n",
    "train_history = {'epoch': [], 'step': [], 'loss': [], 'val_loss': []}\n",
    "for epoch in range(num_epochs):\n",
    "    hidden = None\n",
    "    \n",
    "    # for each batch\n",
    "\n",
    "    for input_seqs, labels in data_loader(data, num_seqs, seq_length):\n",
    "\n",
    "        # Data transformation\n",
    "        input_seqs = one_hot_encoding(input_seqs,num_chars)\n",
    "        input_seqs = torch.from_numpy(input_seqs).to(device)\n",
    "        labels = torch.tensor(labels, dtype=torch.long).to(device)\n",
    "        \n",
    "        # Forward pass\n",
    "\n",
    "        # call model forward and get the outputs\n",
    "        all_outputs, hidden = net.forward(input_seqs, hidden)\n",
    "        \n",
    "        # compute the loss so that we can monitor it\n",
    "        # We use view because it won't occupy extra memory\n",
    "        loss = loss_function(all_outputs.view(num_seqs * seq_length, num_chars), labels.view(num_seqs * seq_length))\n",
    "        \n",
    "        # Backward pass\n",
    "\n",
    "        # compute the gradient\n",
    "        loss.backward()\n",
    "\n",
    "        # gradient clipping\n",
    "        nn.utils.clip_grad_norm_(net.parameters(), 6)\n",
    "        \n",
    "        # update the weights\n",
    "        optimizer.step()\n",
    "\n",
    "        # set all the gradient variables zero\n",
    "        optimizer.zero_grad()\n",
    "\n",
    "        # Detach hidden state and cell state from the graph\n",
    "        # because we have different hidden for each batch\n",
    "        hidden = (hidden[0].detach(), hidden[1].detach())\n",
    "    \n",
    "    # We do not perform gradient descent during validation\n",
    "    with torch.no_grad():\n",
    "        val_hidden = None\n",
    "        val_loss_lst = []\n",
    "        \n",
    "        for input_seqs, labels in data_loader(val_data, num_seqs, seq_length):\n",
    "\n",
    "            # Data transformation\n",
    "            input_seqs = one_hot_encoding(input_seqs,num_chars)\n",
    "            input_seqs = torch.from_numpy(input_seqs).to(device)\n",
    "            labels = torch.tensor(labels, dtype=torch.long).to(device)\n",
    "\n",
    "            # Forward pass\n",
    "            all_outputs, val_hidden = net.forward(input_seqs, val_hidden)\n",
    "            \n",
    "            # We use view because it won't occupy extra memory\n",
    "            val_loss = loss_function(all_outputs.view(num_seqs * seq_length, num_chars), labels.view(num_seqs * seq_length))\n",
    "            val_loss_lst.append(val_loss.item())\n",
    "        \n",
    "        # compute mean validation loss\n",
    "        mean_val_loss = np.mean(val_loss_lst)\n",
    "        print('Epoch ', epoch, ': validation loss ', mean_val_loss)\n",
    "        \n",
    "        # track progress\n",
    "        train_history['epoch'].append(epoch+1)\n",
    "        train_history['loss'].append(loss.item())\n",
    "        train_history['val_loss'].append(mean_val_loss)\n",
    "    \n",
    "    # save model checkpoint if we get better performance\n",
    "    min_val_loss = 100\n",
    "    if mean_val_loss < min_val_loss:\n",
    "        save_checkpoint(net, optimizer, 'autocomplete.net', train_history=train_history)\n",
    "        min_val_loss = mean_val_loss"
   ]
  },
  {
   "cell_type": "code",
   "execution_count": 0,
   "metadata": {
    "colab": {
     "base_uri": "https://localhost:8080/",
     "height": 367
    },
    "colab_type": "code",
    "id": "MYWT40GAYWvp",
    "outputId": "1ca4deb2-7ebd-4eb0-81ef-04341bfc39d8"
   },
   "outputs": [
    {
     "data": {
      "text/plain": [
       "Text(0.5, 1.0, 'Train and validation loss')"
      ]
     },
     "execution_count": 15,
     "metadata": {
      "tags": []
     },
     "output_type": "execute_result"
    },
    {
     "data": {
      "image/png": "[encoded data removed]",
      "text/plain": [
       "<Figure size 720x360 with 1 Axes>"
      ]
     },
     "metadata": {
      "needs_background": "light",
      "tags": []
     },
     "output_type": "display_data"
    }
   ],
   "source": [
    "# Visualize loss\n",
    "plt.figure(figsize=(10, 5))\n",
    "plt.plot(train_history['loss'], lw=3, c='red')\n",
    "plt.plot(train_history['val_loss'], lw=3, c='blue')\n",
    "plt.xlabel('Epoch')\n",
    "plt.ylabel('Loss')\n",
    "plt.title(\"Train and validation loss\")"
   ]
  },
  {
   "cell_type": "code",
   "execution_count": 0,
   "metadata": {
    "colab": {},
    "colab_type": "code",
    "id": "tovSaWWjmW8u"
   },
   "outputs": [],
   "source": []
  },
  {
   "cell_type": "markdown",
   "metadata": {
    "colab_type": "text",
    "id": "MhdHsv8B6NLU"
   },
   "source": [
    "# Model testing"
   ]
  },
  {
   "cell_type": "markdown",
   "metadata": {
    "colab_type": "text",
    "id": "s8E_k6_v6T2i"
   },
   "source": [
    "### Helper function"
   ]
  },
  {
   "cell_type": "code",
   "execution_count": 0,
   "metadata": {
    "colab": {},
    "colab_type": "code",
    "id": "3Lm6sWtbEb49"
   },
   "outputs": [],
   "source": [
    "def prediction(net, input_seqs='import'):\n",
    "    net.to(device)\n",
    "    net.eval()\n",
    "\n",
    "    chars = []\n",
    "    hidden = None\n",
    "    for input_seq in input_seqs:\n",
    "        with torch.no_grad():\n",
    "            input_seq = np.array([[char2int[input_seq]]])\n",
    "            input_seq = one_hot_encoding(input_seq, len(net.chars))\n",
    "            input_seq = torch.from_numpy(input_seq).to(device)\n",
    "            out, hidden = net.forward(input_seq, hidden)\n",
    "\n",
    "            probs = torch.nn.functional.softmax(out, dim=2).data.to('cpu')\n",
    "            char = int2char[int(torch.argmax(probs))]\n",
    "    chars.append(char)\n",
    "    if char == '\\n': return ''.join(chars)\n",
    "\n",
    "    for index in range(150):\n",
    "        input_seq = np.array([[char2int[chars[-1]]]])\n",
    "        input_seq = one_hot_encoding(input_seq, len(net.chars))\n",
    "        input_seq = torch.from_numpy(input_seq).to(device)\n",
    "        out, hidden = net.forward(input_seq, hidden)\n",
    "\n",
    "        probs = torch.nn.functional.softmax(out, dim=2).data.to('cpu')\n",
    "        char = int2char[int(torch.argmax(probs))]\n",
    "        chars.append(char)\n",
    "\n",
    "        if char == '\\n': break\n",
    "\n",
    "    return ''.join(chars)"
   ]
  },
  {
   "cell_type": "markdown",
   "metadata": {
    "colab_type": "text",
    "id": "w7LqOAM66arv"
   },
   "source": [
    "### Testing cases"
   ]
  },
  {
   "cell_type": "code",
   "execution_count": 0,
   "metadata": {
    "colab": {},
    "colab_type": "code",
    "id": "UaXnrigQ6eEY"
   },
   "outputs": [],
   "source": [
    "# load your model from checkpoint\n",
    "net = load_checkpoint('autocomplete.net')"
   ]
  },
  {
   "cell_type": "code",
   "execution_count": 0,
   "metadata": {
    "colab": {
     "base_uri": "https://localhost:8080/",
     "height": 51
    },
    "colab_type": "code",
    "id": "s1frSImaE4BB",
    "outputId": "8cf0089e-de35-4ce6-a03b-1b1670afb25a"
   },
   "outputs": [
    {
     "name": "stdout",
     "output_type": "stream",
     "text": [
      "from torc import torch.nn as nn\n",
      "\n"
     ]
    }
   ],
   "source": [
    "# Test case 1\n",
    "input_seqs = 'from torc '\n",
    "print(input_seqs + prediction(net, input_seqs=input_seqs))"
   ]
  },
  {
   "cell_type": "code",
   "execution_count": 0,
   "metadata": {
    "colab": {
     "base_uri": "https://localhost:8080/",
     "height": 51
    },
    "colab_type": "code",
    "id": "wSGNQ1F2pFZN",
    "outputId": "15605a1c-b97a-4379-8817-eea449766392"
   },
   "outputs": [
    {
     "name": "stdout",
     "output_type": "stream",
     "text": [
      "import matplotlib.pyplot as plt\n",
      "\n"
     ]
    }
   ],
   "source": [
    "# Test case 2\n",
    "input_seqs = 'import matpl'\n",
    "print(input_seqs + prediction(net, input_seqs=input_seqs))"
   ]
  }
 ],
 "metadata": {
  "accelerator": "GPU",
  "colab": {
   "collapsed_sections": [
    "goZynvEwDbVO",
    "5uyRAlOixWg9",
    "gX0aKILex0rC",
    "vJMF_CFQz3yk",
    "pNd2cZClz8qM",
    "mrpDIvXI51vj",
    "ojBhkT9g5ri5"
   ],
   "name": "Copy of autocompletion-easy.ipynb",
   "provenance": [],
   "toc_visible": true
  },
  "kernelspec": {
   "display_name": "Python 3",
   "language": "python",
   "name": "python3"
  },
  "language_info": {
   "codemirror_mode": {
    "name": "ipython",
    "version": 3
   },
   "file_extension": ".py",
   "mimetype": "text/x-python",
   "name": "python",
   "nbconvert_exporter": "python",
   "pygments_lexer": "ipython3",
   "version": "3.7.6"
  }
 },
 "nbformat": 4,
 "nbformat_minor": 1
}
